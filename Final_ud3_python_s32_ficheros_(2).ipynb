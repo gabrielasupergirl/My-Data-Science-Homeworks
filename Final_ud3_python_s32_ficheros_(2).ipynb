{
  "nbformat": 4,
  "nbformat_minor": 0,
  "metadata": {
    "kernelspec": {
      "display_name": "Python 3",
      "language": "python",
      "name": "python3"
    },
    "language_info": {
      "codemirror_mode": {
        "name": "ipython",
        "version": 3
      },
      "file_extension": ".py",
      "mimetype": "text/x-python",
      "name": "python",
      "nbconvert_exporter": "python",
      "pygments_lexer": "ipython3",
      "version": "3.7.4"
    },
    "colab": {
      "provenance": []
    }
  },
  "cells": [
    {
      "cell_type": "markdown",
      "metadata": {
        "id": "AkL5gXH1yxKE"
      },
      "source": [
        "<style type=\"text/css\">\n",
        "    ol { list-style-type: upper-alpha; }\n",
        "</style>\n",
        "\n",
        "<center> <img src=https://i.imgur.com/0TSSaqL.png width=\"550\"> </center>\n",
        "\n",
        "<center> <h3> Module 3: Programación en Python </h3> </center>\n",
        "<center> <h4> Sesiones síncronas - 20221223 - Ficheros</h4> </center>"
      ]
    },
    {
      "cell_type": "markdown",
      "source": [
        "### **Ejercicio 1**\n",
        "Crear un programa que abra un fichero en modo lectura y escritura, si no existe lo creará, y añadir la frase “Este es el ejercicio 1”."
      ],
      "metadata": {
        "id": "HzCWpkBWPuTh"
      }
    },
    {
      "cell_type": "code",
      "source": [
        "# Ejercicio 1\n",
        "try:\n",
        "  with open(r\"/archivos_ud3_python_s32_ficheros/fichero.txt\", \"w+\") as archive:\n",
        "   archive.seek(0)\n",
        "   archive.write(\"Este es el ejercicio 1\")\n",
        "except FileNotFoundError as error:\n",
        "  print(error)\n",
        "\n",
        "\n",
        " \n"
      ],
      "metadata": {
        "id": "Lb1gawdBRQsB"
      },
      "execution_count": null,
      "outputs": []
    },
    {
      "cell_type": "markdown",
      "source": [
        "### **Ejercicio 2**\n",
        "Crear un programa que abra el fichero editado anteriormente y muestre el estado del fichero, el modo en el que fue abierto, el nombre y la codificación de caracteres de este."
      ],
      "metadata": {
        "id": "QnRPZIL4Tn7b"
      }
    },
    {
      "cell_type": "code",
      "source": [
        "# Ejercicio 2\n",
        "try:\n",
        "  with open(r\"/archivos_ud3_python_s32_ficheros/fichero.txt\", \"r\") as archive:\n",
        "    print(\"\")\n",
        "except FileNotFoundError as error:\n",
        "  print(error)\n",
        "else:\n",
        "  print(\"nombre del archivo: \",archive.name, \"\\nmodo en que fue abierto: \", archive.mode, \"\\ncodificación: \", archive.encoding)\n"
      ],
      "metadata": {
        "id": "0SgQB0rZTizb",
        "colab": {
          "base_uri": "https://localhost:8080/"
        },
        "outputId": "25a63347-9f05-4a5b-97f7-697724e0e4cf"
      },
      "execution_count": null,
      "outputs": [
        {
          "output_type": "stream",
          "name": "stdout",
          "text": [
            "\n",
            "nombre del archivo:  /archivos_ud3_python_s32_ficheros/fichero.txt \n",
            "modo en que fue abierto:  r \n",
            "codificación:  UTF-8\n"
          ]
        }
      ]
    },
    {
      "cell_type": "markdown",
      "source": [
        "### **Ejercicio 3**\n",
        "Crear un archivo llamado personas que contendrá una lista de personas con los siguientes campos:\n",
        "- id\n",
        "- nombre\n",
        "- apellido\n",
        "- nacimiento\n",
        "\n",
        "Leer cada línea y colocar cada empleado en un diccionario dentro de una lista. Mostrar los datos de esta. Datos dentro del fichero:\n",
        "```\n",
        "1;Carlos;Pérez;05/01/1989\n",
        "2;Manuel;Heredia;26/12/1973 \n",
        "3;Rosa;Campos;12/06/1961 \n",
        "4;David;García;25/07/2006\n",
        "```\n"
      ],
      "metadata": {
        "id": "NvFeiWtbVW7s"
      }
    },
    {
      "cell_type": "code",
      "source": [
        "# Ejercicio 3\n",
        "try:\n",
        "  with open(r\"/archivos_ud3_python_s32_ficheros/personas.csv\", \"r\") as archive:\n",
        "   archive.seek(0)\n",
        "   lista = archive.readlines()\n",
        "except FileNotFoundError as error:\n",
        "  print(error)\n",
        "else: \n",
        "  lista_personas = []\n",
        "  for i in lista:\n",
        "    temporal = i.split(\";\")\n",
        "    t = temporal[3].split(\"\\n\")\n",
        "    dict1 = dict(id = temporal[0] ,nombre = temporal[1], apellido = temporal[2], nacimiento = t[0])\n",
        "    lista_personas.append(dict1)\n",
        "  print(lista_personas)\n"
      ],
      "metadata": {
        "id": "pa-kn6xTVudQ",
        "colab": {
          "base_uri": "https://localhost:8080/"
        },
        "outputId": "fe011d53-e16e-4c9b-ee14-7faad112b918"
      },
      "execution_count": null,
      "outputs": [
        {
          "output_type": "stream",
          "name": "stdout",
          "text": [
            "[{'id': '\\ufeff\"1', 'nombre': 'Carlos', 'apellido': 'Pérez', 'nacimiento': '05/01/1989\"'}, {'id': '\"2', 'nombre': 'Manuel', 'apellido': 'Heredia', 'nacimiento': '26/12/1973\\xa0\"'}, {'id': '\"3', 'nombre': 'Rosa', 'apellido': 'Campos', 'nacimiento': '12/06/1961\\xa0\"'}, {'id': '\"4', 'nombre': 'David', 'apellido': 'García', 'nacimiento': '25/07/2006\"'}]\n"
          ]
        }
      ]
    },
    {
      "cell_type": "markdown",
      "source": [
        "### **Ejercicio 4**\n",
        "Diseña un programa que obtenga los 100 primeros números primos y los almacene en un fichero de texto llamado primos.txt.\n"
      ],
      "metadata": {
        "id": "a7FWLMXuWP40"
      }
    },
    {
      "cell_type": "code",
      "source": [
        "# Ejercicio 4\n",
        "def primosd():\n",
        " primos = []\n",
        " \n",
        " i = 0\n",
        " while (len(primos) < 100):\n",
        "  i += 1\n",
        "  temporal = 0\n",
        "  primos.append(i)\n",
        "  for a in range(i, 0, -1):\n",
        "    if(i%a == 0):\n",
        "      temporal += 1 \n",
        "      if(temporal > 2): # significa que es divisible entre uno y el mismo y además entre otro, por ende no es primo\n",
        "        primos.remove(i)\n",
        "        break\n",
        " return primos\n",
        "\n",
        "\n",
        "def escribir():\n",
        " try:\n",
        "  with open(r\"/archivos_ud3_python_s32_ficheros/primos.txt\", \"w+\") as arch:\n",
        "   arch.seek(0)\n",
        "   \n",
        "   for i in primosd():\n",
        "     arch.writelines(str(i))\n",
        "     arch.writelines(\"\\n\")\n",
        "   print(arch.read())\n",
        "\n",
        " except FileNotFoundError as error:\n",
        "  print(error)\n",
        "\n",
        "\n",
        "escribir()\n",
        "\n",
        "   \n",
        "    \n"
      ],
      "metadata": {
        "id": "t82Ph4Y0ei9I",
        "colab": {
          "base_uri": "https://localhost:8080/"
        },
        "outputId": "aafa8c3f-e15f-4549-dd6e-b7c5e02adb56"
      },
      "execution_count": null,
      "outputs": [
        {
          "output_type": "stream",
          "name": "stdout",
          "text": [
            "\n"
          ]
        }
      ]
    },
    {
      "cell_type": "markdown",
      "source": [
        "### **Ejercicio 5**\n",
        "Escribir una función que pida dos números n y m entre 1 y 10, lea el fichero tabla-n.txt con la tabla de multiplicar de ese número, y muestre por pantalla la línea m del fichero."
      ],
      "metadata": {
        "id": "S2xUlEyIdAIp"
      }
    },
    {
      "cell_type": "code",
      "source": [
        "# Ejercicio 5\n",
        "archivos = [r\"/archivos_ud3_python_s32_ficheros/tabla-1.txt\",r\"/archivos_ud3_python_s32_ficheros/tabla-2.txt\", r\"/archivos_ud3_python_s32_ficheros/tabla-3.txt\", r\"/archivos_ud3_python_s32_ficheros/tabla-4.txt\",r\"/archivos_ud3_python_s32_ficheros/tabla-5.txt\",r\"/archivos_ud3_python_s32_ficheros/tabla-6.txt\",r\"/archivos_ud3_python_s32_ficheros/tabla-7.txt\",r\"/archivos_ud3_python_s32_ficheros/tabla-8.txt\",r\"/archivos_ud3_python_s32_ficheros/tabla-9.txt\",r\"/archivos_ud3_python_s32_ficheros/tabla-10.txt\"]\n",
        "\n",
        "def abrir (num, args, num2):\n",
        " try:\n",
        "  with open(args[num-1], \"r\") as arch:\n",
        "   arch.seek(0)\n",
        "   t = len(arch.readline().strip())\n",
        "   arch.seek((num2-1)*(t+1))\n",
        "   d = arch.readline().strip()\n",
        " except FileNotFoundError as error:\n",
        "  print(error)\n",
        " else:\n",
        "   print(d)\n",
        "\n",
        "num = int(input(\"INTRODUZCA LA TABLA QUE NECESITA VER: \"))\n",
        "num2 = int(input(\"INTRODUZCA LA FILA QUE NECESITA VER: \"))\n",
        "abrir(num, archivos, num2)"
      ],
      "metadata": {
        "id": "O4n3dK0rdDHj",
        "colab": {
          "base_uri": "https://localhost:8080/"
        },
        "outputId": "0d4b8771-dfbc-4243-d312-0384c4b518ab"
      },
      "execution_count": null,
      "outputs": [
        {
          "output_type": "stream",
          "name": "stdout",
          "text": [
            "INTRODUZCA LA TABLA QUE NECESITA VER: 4\n",
            "INTRODUZCA LA FILA QUE NECESITA VER: 3\n",
            "4 x 3 = 12\n"
          ]
        }
      ]
    },
    {
      "cell_type": "markdown",
      "source": [
        "### **Ejercicio 6**\n",
        "Escribir un programa que guarde en un fichero el ticket de compra de una venta de zapatillas. El programa deberá comenzar creando el fichero llamado “ticket” y mostrando el listado de zapatillas de la siguiente forma (con el número por delante):\n",
        "1. Nike Air Max 90\n",
        "2. Nike Air Force 1\n",
        "3. Nike Blazer Mid 77 \n",
        "4. ...\n",
        "\n",
        "Le preguntaremos al usuario en bucle que vaya seleccionando las zapatillas que quiere comprar hasta que escriba `*`. Estas seleccionadas tendrán que guardarse en una lista que se llame “carrito”. Cuando escriba `*` tendremos que escribir las zapatillas de la lista carrito en el fichero ticket y en la ultima línea del fichero el precio total que tiene que pagar en el fichero.\n",
        "```\n",
        "productos = (\"Nike Air Max 90\", \"Nike Air Force 1\", \"Nike Blazer Mid 77\", \"Air Jordan 1 Mid\", \"Nike SB Shane\", \"Nike Waffle One SE\", \"Nike Air Presto\", \"Nike React Vision\")\n",
        "precios = (139.99, 99.99, 109.99, 129.99, 74.99, 109.89, 85.99, 119.80) \n",
        "stocks = (43, 1, 0, 32, 10`, 12, 50, 6)\n",
        "```"
      ],
      "metadata": {
        "id": "HF19poL43h2j"
      }
    },
    {
      "cell_type": "code",
      "source": [
        "# Ejercicio 6\n",
        "dict_productos = {1:[\"Nike Air Max 90\", 139.99, 43], 2:[\"Nike Air Force 1\", 99.99, 1], 3:[\"Nike Blazer Mid 77\",109.99, 0],4:[\"Air Jordan 1 Mid\",129.99, 32], 5:[\"Nike SB Shane\",74.99, 10], 6:[\"Nike Waffle One SE\",109.89, 12], 7:[\"Nike Air Presto\",85.99, 50], 8:[\"Nike React Vision\",119.80, 6]}\n",
        "lista_carrito = []\n",
        "def imprime(dict_productos):\n",
        " for key,item in dict_productos.items():\n",
        "   r = item\n",
        "   print(\"presione: \",key,\"producto: \",r[0],\"    precio: \",r[1], \"    en stock: \", r[2])\n",
        "\n",
        "def archives(carrito, total):\n",
        "  try:\n",
        "   with open(r\"/archivos_ud3_python_s32_ficheros/ticket.txt\", \"w\") as ticket:\n",
        "     ticket.seek(0)\n",
        "     for prod in carrito:\n",
        "       ticket.writelines(str(prod[0]))\n",
        "       ticket.writelines(\"     \")\n",
        "       ticket.writelines(str(prod[1]))\n",
        "       ticket.writelines(\"\\n\")\n",
        "     ticket.writelines(\"Precio Total:  \")\n",
        "     ticket.writelines(str(round(total,2)))\n",
        "  except FileNotFoundError as error:\n",
        "    print(error)   \n",
        "\n",
        "def carrito_1():\n",
        " imprime(dict_productos)\n",
        " total = 0\n",
        " option = str(input(\"SELECCIONE EL NÚMERO DEL PRODUCTO QUE DESEA ADICIONAR A LA LISTA, TOQUE * PARA IMPRIMIR FACTURA: \"))\n",
        " while(option != \"*\"):\n",
        "  cant = int(input(\"NÚMERO DE PRODUCTOS A COMPRAR: \"))\n",
        "  r = dict_productos.get(int(option), \"no esta\")\n",
        "  if(int(r[2]-cant) < 0):\n",
        "   print(\"cantidad superior a la existencia\")\n",
        "  else:\n",
        "   dict_productos[option] = [r[0], r[1], int(r[2]-cant)]\n",
        "   print(dict_productos[option])\n",
        "   lista_carrito.append((r[0], round(r[1]*cant,2)))\n",
        "   total += (r[1]*cant)\n",
        "  option = str(input(\"SELECCIONE EL NÚMERO DEL PRODUCTO QUE DESEA ADICIONAR A LA LISTA, TOQUE * PARA IMPRIMIR FACTURA: \"))\n",
        " archives(lista_carrito, total)\n",
        "#llamando\n",
        "carrito_1()\n",
        "\n",
        "\n",
        "\n",
        "\n",
        "\n",
        "\n"
      ],
      "metadata": {
        "id": "nT-EQ1st3hqQ",
        "colab": {
          "base_uri": "https://localhost:8080/"
        },
        "outputId": "73eecc03-9b2c-4243-d5c4-8e46d9e60226"
      },
      "execution_count": null,
      "outputs": [
        {
          "name": "stdout",
          "output_type": "stream",
          "text": [
            "presione:  1 producto:  Nike Air Max 90     precio:  139.99     en stock:  43\n",
            "presione:  2 producto:  Nike Air Force 1     precio:  99.99     en stock:  1\n",
            "presione:  3 producto:  Nike Blazer Mid 77     precio:  109.99     en stock:  0\n",
            "presione:  4 producto:  Air Jordan 1 Mid     precio:  129.99     en stock:  32\n",
            "presione:  5 producto:  Nike SB Shane     precio:  74.99     en stock:  10\n",
            "presione:  6 producto:  Nike Waffle One SE     precio:  109.89     en stock:  12\n",
            "presione:  7 producto:  Nike Air Presto     precio:  85.99     en stock:  50\n",
            "presione:  8 producto:  Nike React Vision     precio:  119.8     en stock:  6\n",
            "SELECCIONE EL NÚMERO DEL PRODUCTO QUE DESEA ADICIONAR A LA LISTA, TOQUE * PARA IMPRIMIR FACTURA: 1\n",
            "NÚMERO DE PRODUCTOS A COMPRAR: 10\n",
            "['Nike Air Max 90', 139.99, 33]\n",
            "SELECCIONE EL NÚMERO DEL PRODUCTO QUE DESEA ADICIONAR A LA LISTA, TOQUE * PARA IMPRIMIR FACTURA: *\n"
          ]
        }
      ]
    },
    {
      "cell_type": "markdown",
      "source": [
        "### **Ejercicio 7**\n",
        "Escribir un programa que muestre por pantalla la línea más larga de un fichero. Si hay más de una línea con la longitud de la más larga, el programa mostrará únicamente la primera de ellas.\n",
        "\n",
        "Datos dentro del fichero:\n",
        "```\n",
        "At vero eos et accusamus et iusto odio dignissimos ducimus qui blanditiis\n",
        "praesentium voluptatum deleniti atque corrupti quos dolores et\n",
        "quas molestias excepturi sint occaecati cupiditate non provident, similique\n",
        "sunt in culpa qui officia deserunt mollitia animi, id est laborum et dolorum\n",
        "fuga. Et harum quidem rerum facilis est et expedita distinctio. Nam libero\n",
        "tempore, cum soluta nobis est eligendi optio cumque nihil impedit quo minus\n",
        "id quod maxime placeat facere possimus, omnis voluptas assumenda est,\n",
        "omnis dolor repellendus. Temporibus autem quibusdam et aut officiis debitis\n",
        "aut rerum necessitatibus saepe eveniet ut et voluptates repudiandae sint et molestiae non recusandae.\n",
        "Itaque earum rerum hic tenetur a sapiente delectus, ut aut reiciendis\n",
        "voluptatibus maiores alias consequatur aut perferendis doloribus asperiores repellat.\n",
        "```"
      ],
      "metadata": {
        "id": "kxD9BdM23hXy"
      }
    },
    {
      "cell_type": "code",
      "source": [
        "# Ejercicio 7\n",
        "\n",
        "def leer():\n",
        " lista_info = []\n",
        " try: \n",
        "  with open(\"/archivos_ud3_python_s32_ficheros/larger.txt\", \"r\") as ar:\n",
        "   ar.seek(0)\n",
        "   for line in ar.readlines():\n",
        "    elemento = line.split(\"\\n\")\n",
        "    lista_info.append((elemento[0], len(elemento[0]))) # (linea, longitud_linea)\n",
        " except FileNotFoundError as error:\n",
        "   print(error)\n",
        " else:\n",
        "  return lista_info\n",
        "\n",
        "def large(lista):\n",
        "  larger_length = 0\n",
        "  texto = \"\"\n",
        "  for elem in lista:\n",
        "    length = elem[1]\n",
        "    text = elem[0]\n",
        "    if(larger_length < length):\n",
        "      larger_length = length\n",
        "      texto = text\n",
        "  return texto\n",
        "\n",
        "print(large(leer()))\n",
        "  \n",
        "\n"
      ],
      "metadata": {
        "id": "1_OZqwDx3hJs",
        "colab": {
          "base_uri": "https://localhost:8080/"
        },
        "outputId": "047fa839-3853-43e2-859e-756ca00e51dc"
      },
      "execution_count": null,
      "outputs": [
        {
          "output_type": "stream",
          "name": "stdout",
          "text": [
            "aut rerum necessitatibus saepe eveniet ut et voluptates repudiandae sint et molestiae non recusandae.\n"
          ]
        }
      ]
    },
    {
      "cell_type": "markdown",
      "source": [
        "### **Ejercicio 8**\n",
        "Implementar un llavero de contraseñas con ficheros. Para ello nos dan un fichero, una columna donde se encuentran las aplicaciones y las contraseñas.\n",
        "Tendremos que hacer:\n",
        "1. Agregar nuevas contraseñas. Debes tener en cuenta que la aplicación y la contraseña que se agregue NO puede existir en el fichero. Si existe se tendrá que solicitar otra contraseña.\n",
        "2. Buscar una aplicación introducida por teclado y devolver la contraseña correspondiente.\n",
        "3. Deshacer la última contraseña agregada.\n",
        "4. Modificar una contraseña que se ha introducido por teclado.\n",
        "5. Después de realizar cada opción se preguntará si se quiere realizar otra acción. Si selecciona “S” se volverá́ a enseñar el menú́, si selecciona “N” parará el programa.\n",
        "\n",
        "Datos dentro del fichero:\n",
        "```\n",
        "Gmail 20051206Correo! \n",
        "Tinder qwerasdf1234# \n",
        "Twitter Tw2022+LMP \n",
        "Tiktok Tik2022*VTP\n",
        "Instagram Ins2022!MFR\n",
        "```"
      ],
      "metadata": {
        "id": "ouzwkfzk3g7z"
      }
    },
    {
      "cell_type": "code",
      "source": [
        "\n",
        "\n",
        "# Ejercicio 8\n",
        "####F1\n",
        "def leer():\n",
        " contenido = []\n",
        " try:\n",
        "  with open (\"/archivos_ud3_python_s32_ficheros/llavero.txt\", \"r+\") as llavero:\n",
        "    llavero.seek(0)\n",
        "    for elem in llavero.readlines():\n",
        "       temporal = elem.split(\"\\n\")\n",
        "       contenido.append(temporal[0])\n",
        "    contenido.pop() #quite un elemento vacio al final\n",
        " except FileNotFoundError as error:\n",
        "   print(error)\n",
        " else:\n",
        "   return contenido\n",
        "\n",
        "#####F2\n",
        "def escribir(lista):\n",
        " try:\n",
        "  with open (\"/archivos_ud3_python_s32_ficheros/llavero.txt\", \"w+\") as llavero:\n",
        "    llavero.seek(0)\n",
        "    for elem in lista:\n",
        "     llavero.writelines(elem)\n",
        "     llavero.writelines(\"\\n\")\n",
        " except FileNotFoundError as error:\n",
        "   print(error)\n",
        "####F2.1\n",
        "def escribir_palabra(word):\n",
        " try:\n",
        "  with open (\"/archivos_ud3_python_s32_ficheros/llavero.txt\", \"a+\") as llavero:\n",
        "     llavero.readline() #ignora el ultimo elemento, así no se escribe en el mismo renglón\n",
        "     llavero.writelines(word)\n",
        "     llavero.writelines(\"\\n\")\n",
        " except FileNotFoundError as error:\n",
        "   print(error)\n",
        "####f3\n",
        "\n",
        "def menu():\n",
        " lista = leer()\n",
        " menu_texto = \"1. AGREGAR UNA CONTRASEÑA\\n2. CONSULTAR CONTRASEÑA\\n3. DESHACER ÚLTIMA CONTRASEÑA INTRODUCIDA\\n4. MODIFICAR CONTRASEÑA INTRODUCIDA\\n\"\n",
        " option = \"S\"\n",
        " app_add_mod = \"none\"\n",
        " while(option != \"N\"):\n",
        "  if(option == \"S\"):\n",
        "     print(menu_texto)\n",
        "  menu_option = int(input(\"INTRODUZCA EL NÚMERO DE LA OPCIÓN QUE DESEE: \"))\n",
        "  # ejecute código\n",
        "  app_add_mod = execute(menu_option, lista, app_add_mod)\n",
        "  option = str(input(\"PRESIONE S PARA IMPRIMIR MENÚ, N PARA SALIR \"))\n",
        "  option = option.upper()\n",
        "\n",
        "####f4\n",
        "def execute(menu_option, lista, app_add_mod):\n",
        "  if(menu_option == 1):\n",
        "    #validar que no se encuentre la contraseña o la aplicación\n",
        "    esta = False\n",
        "    app_user = str(input(\"Escriba la app ha adicionar: \"))\n",
        "    app_user = app_user.lower().capitalize()\n",
        "    contra_user = str(input(\"Escriba la contraseña de la app ha adicionar: \"))\n",
        "    for elem in lista:\n",
        "     temporal = elem.split()\n",
        "     if((app_user == temporal[0]) or (contra_user == temporal[1])):\n",
        "       esta =True\n",
        "       print(\"ESA CONTRASEÑA O APP FUERON ADICIONADAS ANTERIORMENTE \")\n",
        "       break\n",
        "    #una vez validada escribimos en el archivo\n",
        "    if(esta == False):\n",
        "      r = (app_user, contra_user)\n",
        "      app_add_mod = \" \".join(r)\n",
        "      escribir_palabra(app_add_mod)\n",
        "    \n",
        "    \n",
        "  elif(menu_option ==2):\n",
        "    #validar que  se encuentre  la aplicación\n",
        "    esta = False\n",
        "    app_user = str(input(\"Escriba la app para buscar su contraseña: \"))\n",
        "    app_user = app_user.lower().capitalize()\n",
        "    for elem in lista:\n",
        "     temporal = elem.split()\n",
        "     if(app_user == temporal[0]):\n",
        "       esta =True\n",
        "       print(\"La contraseña de \",temporal[0], \" es \",temporal[1])\n",
        "       break\n",
        "    if(esta == False):\n",
        "      print(\"ESA APP NO ESTA\")\n",
        "    \n",
        "   \n",
        "  elif(menu_option ==3):\n",
        "   #validar que se encuentre la aplicación\n",
        "    if(app_add_mod != \"none\"):\n",
        "      lista.remove(app_add_mod)\n",
        "      escribir(lista)\n",
        "    else:\n",
        "     print(\"NO SE HA ADICIONADO ALGÚN CAMBIO EN EL LLAVERO, POR ENDE NO SE PUEDE DESHACER \")\n",
        "    \n",
        "\n",
        "  elif(menu_option ==4):\n",
        "   #validar que se encuentre la aplicación\n",
        "    esta = False\n",
        "    pos = 0\n",
        "    app_user = str(input(\"Escriba la app ha modificar: \"))\n",
        "    app_user = app_user.lower().capitalize()\n",
        "    for i,elem in enumerate(lista,0):\n",
        "     temporal = elem.split()\n",
        "     if(app_user == temporal[0]):\n",
        "       esta =True\n",
        "       pos = i\n",
        "       contra_user = str(input(\"Escriba la nueva contraseña de la app: \"))\n",
        "       # validar que no se ponga la misma contraseña\n",
        "       while(contra_user == temporal[1]):\n",
        "         contra_user = str(input(\"Escriba la nueva contraseña de la app: \"))\n",
        "       break\n",
        "    #una vez validada escribimos en el archivo\n",
        "    if(esta == True):\n",
        "      r = (app_user, contra_user)\n",
        "      app_add_mod = \" \".join(r)\n",
        "      a = lista[pos]\n",
        "      lista[pos] = lista[pos].replace(a, app_add_mod)\n",
        "      escribir(lista)\n",
        "    else:\n",
        "     print(\"ESA APP NO SE ENCUENTRA AÚN \")\n",
        "    \n",
        "  return app_add_mod\n",
        "##llamando\n",
        "menu()\n",
        "\n",
        "\n",
        "\n",
        "\n",
        "\n"
      ],
      "metadata": {
        "colab": {
          "base_uri": "https://localhost:8080/"
        },
        "outputId": "d2a0e894-17d6-436a-9efd-ac0631d17662",
        "id": "gPhVEf4ma7Z6"
      },
      "execution_count": null,
      "outputs": [
        {
          "output_type": "stream",
          "name": "stdout",
          "text": [
            "[Errno 2] No such file or directory: '/archivos_ud3_python_s32_ficheros/llavero.txt'\n",
            "1. AGREGAR UNA CONTRASEÑA\n",
            "2. CONSULTAR CONTRASEÑA\n",
            "3. DESHACER ÚLTIMA CONTRASEÑA INTRODUCIDA\n",
            "4. MODIFICAR CONTRASEÑA INTRODUCIDA\n",
            "\n"
          ]
        }
      ]
    },
    {
      "cell_type": "markdown",
      "source": [
        "## **Ejercicio 9**\n",
        "En este ejercicio deberemos realizar una función que realice varias tareas sobre un fichero llamado **contador.txt** que almacenará un contador de visitas (será un número):\n",
        "- Nuestro programa trabajará sobre el fichero contador.txt. Si el fichero está vacío le introduciremos el contador a 0. Si existe simplemente leeremos el valor del contador.\n",
        "- Luego a partir de un argumento:\n",
        "  * Si se envía el argumento inc, se incrementará el contador en uno y se mostrará por pantalla.\n",
        "  * Si se envía el argumento dec, se decrementará el contador en uno y se mostrará por pantalla.\n",
        "  * Si no se envía ningún argumento (o algo que no sea inc o dec), se mostrará el valor del contador por pantalla.\n",
        "- Finalmente guardará de nuevo el valor del contador de nuevo en el fichero"
      ],
      "metadata": {
        "id": "3nO60ZBf3gNl"
      }
    },
    {
      "cell_type": "code",
      "source": [
        "# Ejercicio 9\n",
        "####function 1\n",
        "def leer():\n",
        " contador_num = \"0\"\n",
        " try:\n",
        "  with open (\"/archivos_ud3_python_s32_ficheros/contador.txt\", \"r\") as contador:\n",
        "   contador_num = contador.read()\n",
        " except FileNotFoundError as error:\n",
        "  print(error)\n",
        " else:\n",
        "  return contador_num\n",
        "####function 1.1\n",
        "def leer_first_time():\n",
        " contador_num = \"0\"\n",
        " try:\n",
        "  with open (\"/archivos_ud3_python_s32_ficheros/contador.txt\", \"w\") as contador:\n",
        "    contador.seek(0)\n",
        "    contador.write(\"0\")\n",
        "    print(\"creado\")\n",
        " except FileNotFoundError as error:\n",
        "  print(error)\n",
        " else:\n",
        "  return contador_num\n",
        "####function 2\n",
        "def escribir(conta):\n",
        " try:\n",
        "  with open (\"/archivos_ud3_python_s32_ficheros/contador.txt\", \"w\") as contador:\n",
        "   contador.write(conta)\n",
        " except FileNotFoundError as error:\n",
        "   print(error)\n",
        "  \n",
        "####function 3\n",
        "def execute(option):\n",
        " option = option.upper()\n",
        " conta = leer()\n",
        " print(\"Contador valor inicial es de \", conta)\n",
        " while(option == \"DEC\" or option == \"INC\"):\n",
        "  print(conta)\n",
        "  if(conta!= None):\n",
        "   conta = int(conta)\n",
        "   if(option == \"DEC\"):\n",
        "     conta -= 1\n",
        "     print(\"contador \", conta)\n",
        "   elif(option == \"INC\"):\n",
        "     conta += 1\n",
        "     print(\"contador \", conta)\n",
        "  else:\n",
        "     conta = int(leer_first_time())\n",
        "  option = str(input(\"Introduce inc para incrementar o dec para disminuir, presione otra tecla para mostrar valor \"))\n",
        "  option = option.upper()\n",
        "  escribir(str(conta))\n",
        "  print(\"El valor final del contador es de: \", leer())\n",
        "###usuario\n",
        "option = str(input(\"Introduce inc para incrementar o dec para disminuir, presione otra tecla para mostrar valor \"))\n",
        "execute(option)\n"
      ],
      "metadata": {
        "id": "h3uGjGaw3fYC",
        "colab": {
          "base_uri": "https://localhost:8080/"
        },
        "outputId": "87be2ea8-5f00-4004-8823-1e4747648491"
      },
      "execution_count": null,
      "outputs": [
        {
          "output_type": "stream",
          "name": "stdout",
          "text": [
            "Introduce inc para incrementar o dec para disminuir, presione otra tecla para mostrar valor inc\n",
            "[Errno 2] No such file or directory: '/archivos_ud3_python_s32_ficheros/contador.txt'\n",
            "Contador valor inicial es de  None\n",
            "None\n",
            "creado\n",
            "Introduce inc para incrementar o dec para disminuir, presione otra tecla para mostrar valor inc\n",
            "El valor final del contador es de:  0\n",
            "0\n",
            "contador  1\n",
            "Introduce inc para incrementar o dec para disminuir, presione otra tecla para mostrar valor j\n",
            "El valor final del contador es de:  1\n"
          ]
        }
      ]
    },
    {
      "cell_type": "code",
      "source": [
        "from google.colab import drive\n",
        "drive.mount('/content/drive')"
      ],
      "metadata": {
        "id": "GfoYrCXOT5ob"
      },
      "execution_count": null,
      "outputs": []
    }
  ]
}