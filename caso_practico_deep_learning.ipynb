{
 "cells": [
  {
   "cell_type": "code",
   "execution_count": 1,
   "id": "eb1387aa",
   "metadata": {},
   "outputs": [],
   "source": [
    "#CONVOLUTIONAL NEURAL NETWORK (CNN)\n",
    "import numpy as np\n",
    "import pandas as pd\n"
   ]
  },
  {
   "cell_type": "code",
   "execution_count": 2,
   "id": "660409bd",
   "metadata": {},
   "outputs": [
    {
     "name": "stdout",
     "output_type": "stream",
     "text": [
      "Requirement already satisfied: pip in c:\\users\\auror\\anaconda3\\lib\\site-packages (23.1.2)\n"
     ]
    }
   ],
   "source": [
    "!pip install --upgrade pip"
   ]
  },
  {
   "cell_type": "code",
   "execution_count": 3,
   "id": "a68a0d2b",
   "metadata": {},
   "outputs": [
    {
     "name": "stdout",
     "output_type": "stream",
     "text": [
      "Requirement already satisfied: keras in c:\\users\\auror\\anaconda3\\lib\\site-packages (2.12.0)\n"
     ]
    }
   ],
   "source": [
    "!pip install keras  \n",
    "\n"
   ]
  },
  {
   "cell_type": "code",
   "execution_count": 4,
   "id": "c0e74b23",
   "metadata": {},
   "outputs": [
    {
     "name": "stdout",
     "output_type": "stream",
     "text": [
      "Requirement already satisfied: tensorflow in c:\\users\\auror\\anaconda3\\lib\\site-packages (2.12.0)\n",
      "Requirement already satisfied: tensorflow-intel==2.12.0 in c:\\users\\auror\\anaconda3\\lib\\site-packages (from tensorflow) (2.12.0)\n",
      "Requirement already satisfied: absl-py>=1.0.0 in c:\\users\\auror\\anaconda3\\lib\\site-packages (from tensorflow-intel==2.12.0->tensorflow) (1.4.0)\n",
      "Requirement already satisfied: astunparse>=1.6.0 in c:\\users\\auror\\anaconda3\\lib\\site-packages (from tensorflow-intel==2.12.0->tensorflow) (1.6.3)\n",
      "Requirement already satisfied: flatbuffers>=2.0 in c:\\users\\auror\\anaconda3\\lib\\site-packages (from tensorflow-intel==2.12.0->tensorflow) (23.5.26)\n",
      "Requirement already satisfied: gast<=0.4.0,>=0.2.1 in c:\\users\\auror\\anaconda3\\lib\\site-packages (from tensorflow-intel==2.12.0->tensorflow) (0.4.0)\n",
      "Requirement already satisfied: google-pasta>=0.1.1 in c:\\users\\auror\\anaconda3\\lib\\site-packages (from tensorflow-intel==2.12.0->tensorflow) (0.2.0)\n",
      "Requirement already satisfied: h5py>=2.9.0 in c:\\users\\auror\\anaconda3\\lib\\site-packages (from tensorflow-intel==2.12.0->tensorflow) (3.7.0)\n",
      "Requirement already satisfied: jax>=0.3.15 in c:\\users\\auror\\anaconda3\\lib\\site-packages (from tensorflow-intel==2.12.0->tensorflow) (0.4.13)\n",
      "Requirement already satisfied: libclang>=13.0.0 in c:\\users\\auror\\anaconda3\\lib\\site-packages (from tensorflow-intel==2.12.0->tensorflow) (16.0.0)\n",
      "Requirement already satisfied: numpy<1.24,>=1.22 in c:\\users\\auror\\anaconda3\\lib\\site-packages (from tensorflow-intel==2.12.0->tensorflow) (1.23.5)\n",
      "Requirement already satisfied: opt-einsum>=2.3.2 in c:\\users\\auror\\anaconda3\\lib\\site-packages (from tensorflow-intel==2.12.0->tensorflow) (3.3.0)\n",
      "Requirement already satisfied: packaging in c:\\users\\auror\\anaconda3\\lib\\site-packages (from tensorflow-intel==2.12.0->tensorflow) (23.0)\n",
      "Requirement already satisfied: protobuf!=4.21.0,!=4.21.1,!=4.21.2,!=4.21.3,!=4.21.4,!=4.21.5,<5.0.0dev,>=3.20.3 in c:\\users\\auror\\anaconda3\\lib\\site-packages (from tensorflow-intel==2.12.0->tensorflow) (4.23.3)\n",
      "Requirement already satisfied: setuptools in c:\\users\\auror\\anaconda3\\lib\\site-packages (from tensorflow-intel==2.12.0->tensorflow) (67.8.0)\n",
      "Requirement already satisfied: six>=1.12.0 in c:\\users\\auror\\anaconda3\\lib\\site-packages (from tensorflow-intel==2.12.0->tensorflow) (1.16.0)\n",
      "Requirement already satisfied: termcolor>=1.1.0 in c:\\users\\auror\\anaconda3\\lib\\site-packages (from tensorflow-intel==2.12.0->tensorflow) (2.3.0)\n",
      "Requirement already satisfied: typing-extensions>=3.6.6 in c:\\users\\auror\\anaconda3\\lib\\site-packages (from tensorflow-intel==2.12.0->tensorflow) (4.6.3)\n",
      "Requirement already satisfied: wrapt<1.15,>=1.11.0 in c:\\users\\auror\\anaconda3\\lib\\site-packages (from tensorflow-intel==2.12.0->tensorflow) (1.14.1)\n",
      "Requirement already satisfied: grpcio<2.0,>=1.24.3 in c:\\users\\auror\\anaconda3\\lib\\site-packages (from tensorflow-intel==2.12.0->tensorflow) (1.56.0)\n",
      "Requirement already satisfied: tensorboard<2.13,>=2.12 in c:\\users\\auror\\anaconda3\\lib\\site-packages (from tensorflow-intel==2.12.0->tensorflow) (2.12.3)\n",
      "Requirement already satisfied: tensorflow-estimator<2.13,>=2.12.0 in c:\\users\\auror\\anaconda3\\lib\\site-packages (from tensorflow-intel==2.12.0->tensorflow) (2.12.0)\n",
      "Requirement already satisfied: keras<2.13,>=2.12.0 in c:\\users\\auror\\anaconda3\\lib\\site-packages (from tensorflow-intel==2.12.0->tensorflow) (2.12.0)\n",
      "Requirement already satisfied: tensorflow-io-gcs-filesystem>=0.23.1 in c:\\users\\auror\\anaconda3\\lib\\site-packages (from tensorflow-intel==2.12.0->tensorflow) (0.31.0)\n",
      "Requirement already satisfied: wheel<1.0,>=0.23.0 in c:\\users\\auror\\anaconda3\\lib\\site-packages (from astunparse>=1.6.0->tensorflow-intel==2.12.0->tensorflow) (0.38.4)\n",
      "Requirement already satisfied: ml-dtypes>=0.1.0 in c:\\users\\auror\\anaconda3\\lib\\site-packages (from jax>=0.3.15->tensorflow-intel==2.12.0->tensorflow) (0.2.0)\n",
      "Requirement already satisfied: scipy>=1.7 in c:\\users\\auror\\anaconda3\\lib\\site-packages (from jax>=0.3.15->tensorflow-intel==2.12.0->tensorflow) (1.10.1)\n",
      "Requirement already satisfied: importlib-metadata>=4.6 in c:\\users\\auror\\anaconda3\\lib\\site-packages (from jax>=0.3.15->tensorflow-intel==2.12.0->tensorflow) (6.0.0)\n",
      "Requirement already satisfied: google-auth<3,>=1.6.3 in c:\\users\\auror\\anaconda3\\lib\\site-packages (from tensorboard<2.13,>=2.12->tensorflow-intel==2.12.0->tensorflow) (2.20.0)\n",
      "Requirement already satisfied: google-auth-oauthlib<1.1,>=0.5 in c:\\users\\auror\\anaconda3\\lib\\site-packages (from tensorboard<2.13,>=2.12->tensorflow-intel==2.12.0->tensorflow) (1.0.0)\n",
      "Requirement already satisfied: markdown>=2.6.8 in c:\\users\\auror\\anaconda3\\lib\\site-packages (from tensorboard<2.13,>=2.12->tensorflow-intel==2.12.0->tensorflow) (3.4.1)\n",
      "Requirement already satisfied: requests<3,>=2.21.0 in c:\\users\\auror\\anaconda3\\lib\\site-packages (from tensorboard<2.13,>=2.12->tensorflow-intel==2.12.0->tensorflow) (2.29.0)\n",
      "Requirement already satisfied: tensorboard-data-server<0.8.0,>=0.7.0 in c:\\users\\auror\\anaconda3\\lib\\site-packages (from tensorboard<2.13,>=2.12->tensorflow-intel==2.12.0->tensorflow) (0.7.1)\n",
      "Requirement already satisfied: werkzeug>=1.0.1 in c:\\users\\auror\\anaconda3\\lib\\site-packages (from tensorboard<2.13,>=2.12->tensorflow-intel==2.12.0->tensorflow) (2.0.3)\n",
      "Requirement already satisfied: cachetools<6.0,>=2.0.0 in c:\\users\\auror\\anaconda3\\lib\\site-packages (from google-auth<3,>=1.6.3->tensorboard<2.13,>=2.12->tensorflow-intel==2.12.0->tensorflow) (5.3.1)\n",
      "Requirement already satisfied: pyasn1-modules>=0.2.1 in c:\\users\\auror\\anaconda3\\lib\\site-packages (from google-auth<3,>=1.6.3->tensorboard<2.13,>=2.12->tensorflow-intel==2.12.0->tensorflow) (0.2.8)\n",
      "Requirement already satisfied: rsa<5,>=3.1.4 in c:\\users\\auror\\anaconda3\\lib\\site-packages (from google-auth<3,>=1.6.3->tensorboard<2.13,>=2.12->tensorflow-intel==2.12.0->tensorflow) (4.9)\n",
      "Requirement already satisfied: urllib3<2.0 in c:\\users\\auror\\anaconda3\\lib\\site-packages (from google-auth<3,>=1.6.3->tensorboard<2.13,>=2.12->tensorflow-intel==2.12.0->tensorflow) (1.26.16)\n",
      "Requirement already satisfied: requests-oauthlib>=0.7.0 in c:\\users\\auror\\anaconda3\\lib\\site-packages (from google-auth-oauthlib<1.1,>=0.5->tensorboard<2.13,>=2.12->tensorflow-intel==2.12.0->tensorflow) (1.3.1)\n",
      "Requirement already satisfied: zipp>=0.5 in c:\\users\\auror\\anaconda3\\lib\\site-packages (from importlib-metadata>=4.6->jax>=0.3.15->tensorflow-intel==2.12.0->tensorflow) (3.11.0)\n",
      "Requirement already satisfied: charset-normalizer<4,>=2 in c:\\users\\auror\\anaconda3\\lib\\site-packages (from requests<3,>=2.21.0->tensorboard<2.13,>=2.12->tensorflow-intel==2.12.0->tensorflow) (2.0.4)\n",
      "Requirement already satisfied: idna<4,>=2.5 in c:\\users\\auror\\anaconda3\\lib\\site-packages (from requests<3,>=2.21.0->tensorboard<2.13,>=2.12->tensorflow-intel==2.12.0->tensorflow) (3.4)\n",
      "Requirement already satisfied: certifi>=2017.4.17 in c:\\users\\auror\\anaconda3\\lib\\site-packages (from requests<3,>=2.21.0->tensorboard<2.13,>=2.12->tensorflow-intel==2.12.0->tensorflow) (2023.5.7)\n",
      "Requirement already satisfied: pyasn1<0.5.0,>=0.4.6 in c:\\users\\auror\\anaconda3\\lib\\site-packages (from pyasn1-modules>=0.2.1->google-auth<3,>=1.6.3->tensorboard<2.13,>=2.12->tensorflow-intel==2.12.0->tensorflow) (0.4.8)\n",
      "Requirement already satisfied: oauthlib>=3.0.0 in c:\\users\\auror\\anaconda3\\lib\\site-packages (from requests-oauthlib>=0.7.0->google-auth-oauthlib<1.1,>=0.5->tensorboard<2.13,>=2.12->tensorflow-intel==2.12.0->tensorflow) (3.2.2)\n"
     ]
    }
   ],
   "source": [
    "!pip install tensorflow"
   ]
  },
  {
   "cell_type": "code",
   "execution_count": 5,
   "id": "42eda9ab",
   "metadata": {},
   "outputs": [
    {
     "name": "stdout",
     "output_type": "stream",
     "text": [
      "Requirement already satisfied: tensorflow in c:\\users\\auror\\anaconda3\\lib\\site-packages (2.12.0)\n",
      "Requirement already satisfied: tensorflow-intel==2.12.0 in c:\\users\\auror\\anaconda3\\lib\\site-packages (from tensorflow) (2.12.0)\n",
      "Requirement already satisfied: absl-py>=1.0.0 in c:\\users\\auror\\anaconda3\\lib\\site-packages (from tensorflow-intel==2.12.0->tensorflow) (1.4.0)\n",
      "Requirement already satisfied: astunparse>=1.6.0 in c:\\users\\auror\\anaconda3\\lib\\site-packages (from tensorflow-intel==2.12.0->tensorflow) (1.6.3)\n",
      "Requirement already satisfied: flatbuffers>=2.0 in c:\\users\\auror\\anaconda3\\lib\\site-packages (from tensorflow-intel==2.12.0->tensorflow) (23.5.26)\n",
      "Requirement already satisfied: gast<=0.4.0,>=0.2.1 in c:\\users\\auror\\anaconda3\\lib\\site-packages (from tensorflow-intel==2.12.0->tensorflow) (0.4.0)\n",
      "Requirement already satisfied: google-pasta>=0.1.1 in c:\\users\\auror\\anaconda3\\lib\\site-packages (from tensorflow-intel==2.12.0->tensorflow) (0.2.0)\n",
      "Requirement already satisfied: h5py>=2.9.0 in c:\\users\\auror\\anaconda3\\lib\\site-packages (from tensorflow-intel==2.12.0->tensorflow) (3.7.0)\n",
      "Requirement already satisfied: jax>=0.3.15 in c:\\users\\auror\\anaconda3\\lib\\site-packages (from tensorflow-intel==2.12.0->tensorflow) (0.4.13)\n",
      "Requirement already satisfied: libclang>=13.0.0 in c:\\users\\auror\\anaconda3\\lib\\site-packages (from tensorflow-intel==2.12.0->tensorflow) (16.0.0)\n",
      "Requirement already satisfied: numpy<1.24,>=1.22 in c:\\users\\auror\\anaconda3\\lib\\site-packages (from tensorflow-intel==2.12.0->tensorflow) (1.23.5)\n",
      "Requirement already satisfied: opt-einsum>=2.3.2 in c:\\users\\auror\\anaconda3\\lib\\site-packages (from tensorflow-intel==2.12.0->tensorflow) (3.3.0)\n",
      "Requirement already satisfied: packaging in c:\\users\\auror\\anaconda3\\lib\\site-packages (from tensorflow-intel==2.12.0->tensorflow) (23.0)\n",
      "Requirement already satisfied: protobuf!=4.21.0,!=4.21.1,!=4.21.2,!=4.21.3,!=4.21.4,!=4.21.5,<5.0.0dev,>=3.20.3 in c:\\users\\auror\\anaconda3\\lib\\site-packages (from tensorflow-intel==2.12.0->tensorflow) (4.23.3)\n",
      "Requirement already satisfied: setuptools in c:\\users\\auror\\anaconda3\\lib\\site-packages (from tensorflow-intel==2.12.0->tensorflow) (67.8.0)\n",
      "Requirement already satisfied: six>=1.12.0 in c:\\users\\auror\\anaconda3\\lib\\site-packages (from tensorflow-intel==2.12.0->tensorflow) (1.16.0)\n",
      "Requirement already satisfied: termcolor>=1.1.0 in c:\\users\\auror\\anaconda3\\lib\\site-packages (from tensorflow-intel==2.12.0->tensorflow) (2.3.0)\n",
      "Requirement already satisfied: typing-extensions>=3.6.6 in c:\\users\\auror\\anaconda3\\lib\\site-packages (from tensorflow-intel==2.12.0->tensorflow) (4.6.3)\n",
      "Requirement already satisfied: wrapt<1.15,>=1.11.0 in c:\\users\\auror\\anaconda3\\lib\\site-packages (from tensorflow-intel==2.12.0->tensorflow) (1.14.1)\n",
      "Requirement already satisfied: grpcio<2.0,>=1.24.3 in c:\\users\\auror\\anaconda3\\lib\\site-packages (from tensorflow-intel==2.12.0->tensorflow) (1.56.0)\n",
      "Requirement already satisfied: tensorboard<2.13,>=2.12 in c:\\users\\auror\\anaconda3\\lib\\site-packages (from tensorflow-intel==2.12.0->tensorflow) (2.12.3)\n",
      "Requirement already satisfied: tensorflow-estimator<2.13,>=2.12.0 in c:\\users\\auror\\anaconda3\\lib\\site-packages (from tensorflow-intel==2.12.0->tensorflow) (2.12.0)\n",
      "Requirement already satisfied: keras<2.13,>=2.12.0 in c:\\users\\auror\\anaconda3\\lib\\site-packages (from tensorflow-intel==2.12.0->tensorflow) (2.12.0)\n",
      "Requirement already satisfied: tensorflow-io-gcs-filesystem>=0.23.1 in c:\\users\\auror\\anaconda3\\lib\\site-packages (from tensorflow-intel==2.12.0->tensorflow) (0.31.0)\n",
      "Requirement already satisfied: wheel<1.0,>=0.23.0 in c:\\users\\auror\\anaconda3\\lib\\site-packages (from astunparse>=1.6.0->tensorflow-intel==2.12.0->tensorflow) (0.38.4)\n",
      "Requirement already satisfied: ml-dtypes>=0.1.0 in c:\\users\\auror\\anaconda3\\lib\\site-packages (from jax>=0.3.15->tensorflow-intel==2.12.0->tensorflow) (0.2.0)\n",
      "Requirement already satisfied: scipy>=1.7 in c:\\users\\auror\\anaconda3\\lib\\site-packages (from jax>=0.3.15->tensorflow-intel==2.12.0->tensorflow) (1.10.1)\n",
      "Requirement already satisfied: importlib-metadata>=4.6 in c:\\users\\auror\\anaconda3\\lib\\site-packages (from jax>=0.3.15->tensorflow-intel==2.12.0->tensorflow) (6.0.0)\n",
      "Requirement already satisfied: google-auth<3,>=1.6.3 in c:\\users\\auror\\anaconda3\\lib\\site-packages (from tensorboard<2.13,>=2.12->tensorflow-intel==2.12.0->tensorflow) (2.20.0)\n",
      "Requirement already satisfied: google-auth-oauthlib<1.1,>=0.5 in c:\\users\\auror\\anaconda3\\lib\\site-packages (from tensorboard<2.13,>=2.12->tensorflow-intel==2.12.0->tensorflow) (1.0.0)\n",
      "Requirement already satisfied: markdown>=2.6.8 in c:\\users\\auror\\anaconda3\\lib\\site-packages (from tensorboard<2.13,>=2.12->tensorflow-intel==2.12.0->tensorflow) (3.4.1)\n",
      "Requirement already satisfied: requests<3,>=2.21.0 in c:\\users\\auror\\anaconda3\\lib\\site-packages (from tensorboard<2.13,>=2.12->tensorflow-intel==2.12.0->tensorflow) (2.29.0)\n",
      "Requirement already satisfied: tensorboard-data-server<0.8.0,>=0.7.0 in c:\\users\\auror\\anaconda3\\lib\\site-packages (from tensorboard<2.13,>=2.12->tensorflow-intel==2.12.0->tensorflow) (0.7.1)\n",
      "Requirement already satisfied: werkzeug>=1.0.1 in c:\\users\\auror\\anaconda3\\lib\\site-packages (from tensorboard<2.13,>=2.12->tensorflow-intel==2.12.0->tensorflow) (2.0.3)\n",
      "Requirement already satisfied: cachetools<6.0,>=2.0.0 in c:\\users\\auror\\anaconda3\\lib\\site-packages (from google-auth<3,>=1.6.3->tensorboard<2.13,>=2.12->tensorflow-intel==2.12.0->tensorflow) (5.3.1)\n",
      "Requirement already satisfied: pyasn1-modules>=0.2.1 in c:\\users\\auror\\anaconda3\\lib\\site-packages (from google-auth<3,>=1.6.3->tensorboard<2.13,>=2.12->tensorflow-intel==2.12.0->tensorflow) (0.2.8)\n",
      "Requirement already satisfied: rsa<5,>=3.1.4 in c:\\users\\auror\\anaconda3\\lib\\site-packages (from google-auth<3,>=1.6.3->tensorboard<2.13,>=2.12->tensorflow-intel==2.12.0->tensorflow) (4.9)\n",
      "Requirement already satisfied: urllib3<2.0 in c:\\users\\auror\\anaconda3\\lib\\site-packages (from google-auth<3,>=1.6.3->tensorboard<2.13,>=2.12->tensorflow-intel==2.12.0->tensorflow) (1.26.16)\n",
      "Requirement already satisfied: requests-oauthlib>=0.7.0 in c:\\users\\auror\\anaconda3\\lib\\site-packages (from google-auth-oauthlib<1.1,>=0.5->tensorboard<2.13,>=2.12->tensorflow-intel==2.12.0->tensorflow) (1.3.1)\n",
      "Requirement already satisfied: zipp>=0.5 in c:\\users\\auror\\anaconda3\\lib\\site-packages (from importlib-metadata>=4.6->jax>=0.3.15->tensorflow-intel==2.12.0->tensorflow) (3.11.0)\n",
      "Requirement already satisfied: charset-normalizer<4,>=2 in c:\\users\\auror\\anaconda3\\lib\\site-packages (from requests<3,>=2.21.0->tensorboard<2.13,>=2.12->tensorflow-intel==2.12.0->tensorflow) (2.0.4)\n",
      "Requirement already satisfied: idna<4,>=2.5 in c:\\users\\auror\\anaconda3\\lib\\site-packages (from requests<3,>=2.21.0->tensorboard<2.13,>=2.12->tensorflow-intel==2.12.0->tensorflow) (3.4)\n",
      "Requirement already satisfied: certifi>=2017.4.17 in c:\\users\\auror\\anaconda3\\lib\\site-packages (from requests<3,>=2.21.0->tensorboard<2.13,>=2.12->tensorflow-intel==2.12.0->tensorflow) (2023.5.7)\n",
      "Requirement already satisfied: pyasn1<0.5.0,>=0.4.6 in c:\\users\\auror\\anaconda3\\lib\\site-packages (from pyasn1-modules>=0.2.1->google-auth<3,>=1.6.3->tensorboard<2.13,>=2.12->tensorflow-intel==2.12.0->tensorflow) (0.4.8)\n",
      "Requirement already satisfied: oauthlib>=3.0.0 in c:\\users\\auror\\anaconda3\\lib\\site-packages (from requests-oauthlib>=0.7.0->google-auth-oauthlib<1.1,>=0.5->tensorboard<2.13,>=2.12->tensorflow-intel==2.12.0->tensorflow) (3.2.2)\n"
     ]
    }
   ],
   "source": [
    "!pip install -U tensorflow"
   ]
  },
  {
   "cell_type": "code",
   "execution_count": 6,
   "id": "cc349f6f",
   "metadata": {},
   "outputs": [
    {
     "name": "stdout",
     "output_type": "stream",
     "text": [
      "Name: tensorflow\n",
      "Version: 2.12.0\n",
      "Summary: TensorFlow is an open source machine learning framework for everyone.\n",
      "Home-page: https://www.tensorflow.org/\n",
      "Author: Google Inc.\n",
      "Author-email: packages@tensorflow.org\n",
      "License: Apache 2.0\n",
      "Location: c:\\users\\auror\\anaconda3\\lib\\site-packages\n",
      "Requires: tensorflow-intel\n",
      "Required-by: \n"
     ]
    }
   ],
   "source": [
    "!python -m pip show tensorflow"
   ]
  },
  {
   "cell_type": "code",
   "execution_count": 7,
   "id": "d0a6b406",
   "metadata": {},
   "outputs": [],
   "source": [
    "import tensorflow as tf\n",
    "from tensorflow import keras\n",
    "from tensorflow.keras import layers"
   ]
  },
  {
   "cell_type": "code",
   "execution_count": 8,
   "id": "068da42f",
   "metadata": {},
   "outputs": [],
   "source": [
    "from keras.models import Sequential\n",
    "from keras.layers import Conv2D\n",
    "from keras.layers import MaxPooling2D\n",
    "from keras.layers import Flatten\n",
    "from keras.layers import Dense\n",
    "from keras.layers import Dropout"
   ]
  },
  {
   "cell_type": "code",
   "execution_count": 9,
   "id": "dd1cb7a6",
   "metadata": {},
   "outputs": [],
   "source": [
    "image_val=[1427,1430,1431,1436,1437,1438,1440,1442]\n",
    "import numpy as np\n",
    "import matplotlib.pyplot as plt \n",
    "from keras.utils import load_img, img_to_array\n",
    "import numpy as np"
   ]
  },
  {
   "cell_type": "code",
   "execution_count": 10,
   "id": "14e4acc4",
   "metadata": {},
   "outputs": [
    {
     "name": "stdout",
     "output_type": "stream",
     "text": [
      "Found 5216 images belonging to 2 classes.\n",
      "Found 624 images belonging to 2 classes.\n"
     ]
    }
   ],
   "source": [
    "#debido a la cantidad de imágenes no tan alta, para evitar overfitting se hara:\n",
    "from keras.preprocessing.image import ImageDataGenerator\n",
    "train_datagen = ImageDataGenerator(\n",
    "        rescale=1./255, \n",
    "        shear_range=0.2, \n",
    "        zoom_range=0.2, \n",
    "        rotation_range=20,\n",
    "        horizontal_flip=True)\n",
    "\n",
    "test_datagen = ImageDataGenerator(rescale=1./255)\n",
    "\n",
    "training_dataset = train_datagen.flow_from_directory(\"/caso_practico_deep_learning/Data/train/\",\n",
    "                                                    target_size=(64, 64),\n",
    "                                                    batch_size=32,\n",
    "                                                    class_mode='binary')\n",
    "\n",
    "testing_dataset = test_datagen.flow_from_directory(\"/caso_practico_deep_learning/Data/test/\",\n",
    "                                                target_size=(64, 64),\n",
    "                                                batch_size=32,\n",
    "                                                class_mode='binary')\n"
   ]
  },
  {
   "cell_type": "code",
   "execution_count": 11,
   "id": "bbf6ead3",
   "metadata": {},
   "outputs": [],
   "source": [
    "classifier = keras.models.Sequential()"
   ]
  },
  {
   "cell_type": "code",
   "execution_count": 12,
   "id": "71c2b76c",
   "metadata": {},
   "outputs": [],
   "source": [
    "#creando la primera capa\n",
    "classifier.add(Conv2D(filters = 32, \n",
    "                      kernel_size = (3, 3),\n",
    "                      input_shape = (64, 64, 3), \n",
    "                      activation = \"relu\")\n",
    "                      )"
   ]
  },
  {
   "cell_type": "code",
   "execution_count": 13,
   "id": "6dcfeea8",
   "metadata": {},
   "outputs": [],
   "source": [
    "#max pooling\n",
    "classifier.add(MaxPooling2D(pool_size = (2,2)))"
   ]
  },
  {
   "cell_type": "code",
   "execution_count": 14,
   "id": "a36159e9",
   "metadata": {},
   "outputs": [],
   "source": [
    "#segunda capa convolucional\n",
    "classifier.add(Conv2D(filters = 64,kernel_size = (3, 3), activation = \"relu\"))"
   ]
  },
  {
   "cell_type": "code",
   "execution_count": 15,
   "id": "8146e18a",
   "metadata": {},
   "outputs": [],
   "source": [
    "#max pooling\n",
    "classifier.add(MaxPooling2D(pool_size = (2,2)))"
   ]
  },
  {
   "cell_type": "code",
   "execution_count": 16,
   "id": "634d3434",
   "metadata": {},
   "outputs": [],
   "source": [
    "#aplanando la matriz\n",
    "classifier.add(Flatten())\n",
    "classifier.add(Dropout(0.6))"
   ]
  },
  {
   "cell_type": "code",
   "execution_count": 17,
   "id": "e84d82ee",
   "metadata": {},
   "outputs": [],
   "source": [
    "classifier.add(Dense(units = 128, activation = \"relu\"))\n",
    "classifier.add(Dense(units = 1, activation = \"sigmoid\"))#sigmoid al ser dos categorias"
   ]
  },
  {
   "cell_type": "code",
   "execution_count": 18,
   "id": "1b69b819",
   "metadata": {},
   "outputs": [
    {
     "name": "stdout",
     "output_type": "stream",
     "text": [
      "Model: \"sequential\"\n",
      "_________________________________________________________________\n",
      " Layer (type)                Output Shape              Param #   \n",
      "=================================================================\n",
      " conv2d (Conv2D)             (None, 62, 62, 32)        896       \n",
      "                                                                 \n",
      " max_pooling2d (MaxPooling2D  (None, 31, 31, 32)       0         \n",
      " )                                                               \n",
      "                                                                 \n",
      " conv2d_1 (Conv2D)           (None, 29, 29, 64)        18496     \n",
      "                                                                 \n",
      " max_pooling2d_1 (MaxPooling  (None, 14, 14, 64)       0         \n",
      " 2D)                                                             \n",
      "                                                                 \n",
      " flatten (Flatten)           (None, 12544)             0         \n",
      "                                                                 \n",
      " dropout (Dropout)           (None, 12544)             0         \n",
      "                                                                 \n",
      " dense (Dense)               (None, 128)               1605760   \n",
      "                                                                 \n",
      " dense_1 (Dense)             (None, 1)                 129       \n",
      "                                                                 \n",
      "=================================================================\n",
      "Total params: 1,625,281\n",
      "Trainable params: 1,625,281\n",
      "Non-trainable params: 0\n",
      "_________________________________________________________________\n"
     ]
    }
   ],
   "source": [
    "#calculando los parámetros\n",
    "classifier.summary()"
   ]
  },
  {
   "cell_type": "code",
   "execution_count": 19,
   "id": "e9011d1e",
   "metadata": {},
   "outputs": [],
   "source": [
    "#compilar\n",
    "classifier.compile(optimizer = \"RMSprop\", \n",
    "                   loss = \"binary_crossentropy\", \n",
    "                   metrics = [\"accuracy\"])"
   ]
  },
  {
   "cell_type": "code",
   "execution_count": 20,
   "id": "fccd361f",
   "metadata": {},
   "outputs": [
    {
     "name": "stdout",
     "output_type": "stream",
     "text": [
      "train_data:  5216\n",
      "test_data:  624\n"
     ]
    }
   ],
   "source": [
    "print(\"train_data: \",training_dataset.n)\n",
    "print(\"test_data: \",testing_dataset.n)"
   ]
  },
  {
   "cell_type": "code",
   "execution_count": 21,
   "id": "3997f1c0",
   "metadata": {},
   "outputs": [
    {
     "name": "stdout",
     "output_type": "stream",
     "text": [
      "Epoch 1/75\n",
      "163/163 [==============================] - 115s 700ms/step - loss: 0.5457 - accuracy: 0.7619 - val_loss: 0.4280 - val_accuracy: 0.7747\n",
      "Epoch 2/75\n",
      "163/163 [==============================] - 110s 673ms/step - loss: 0.3379 - accuracy: 0.8522 - val_loss: 0.3170 - val_accuracy: 0.8684\n",
      "Epoch 3/75\n",
      "163/163 [==============================] - 105s 643ms/step - loss: 0.2744 - accuracy: 0.8834 - val_loss: 0.4677 - val_accuracy: 0.8010\n",
      "Epoch 4/75\n",
      "163/163 [==============================] - 106s 650ms/step - loss: 0.2567 - accuracy: 0.8951 - val_loss: 0.4419 - val_accuracy: 0.7862\n",
      "Epoch 5/75\n",
      "163/163 [==============================] - 118s 727ms/step - loss: 0.2228 - accuracy: 0.9089 - val_loss: 0.5157 - val_accuracy: 0.7944\n",
      "Epoch 6/75\n",
      "163/163 [==============================] - 126s 771ms/step - loss: 0.2039 - accuracy: 0.9197 - val_loss: 0.2935 - val_accuracy: 0.8882\n",
      "Epoch 7/75\n",
      "163/163 [==============================] - 118s 725ms/step - loss: 0.2134 - accuracy: 0.9170 - val_loss: 0.3466 - val_accuracy: 0.8701\n",
      "Epoch 8/75\n",
      "163/163 [==============================] - 120s 737ms/step - loss: 0.1973 - accuracy: 0.9273 - val_loss: 0.2568 - val_accuracy: 0.9030\n",
      "Epoch 9/75\n",
      "163/163 [==============================] - 130s 799ms/step - loss: 0.1923 - accuracy: 0.9250 - val_loss: 0.2621 - val_accuracy: 0.9128\n",
      "Epoch 10/75\n",
      "163/163 [==============================] - 107s 656ms/step - loss: 0.1829 - accuracy: 0.9296 - val_loss: 0.2834 - val_accuracy: 0.9013\n",
      "Epoch 11/75\n",
      "163/163 [==============================] - 94s 580ms/step - loss: 0.1735 - accuracy: 0.9310 - val_loss: 0.3690 - val_accuracy: 0.8635\n",
      "Epoch 12/75\n",
      "163/163 [==============================] - 90s 554ms/step - loss: 0.1825 - accuracy: 0.9314 - val_loss: 0.2981 - val_accuracy: 0.9013\n",
      "Epoch 13/75\n",
      "163/163 [==============================] - 96s 587ms/step - loss: 0.1715 - accuracy: 0.9327 - val_loss: 0.3319 - val_accuracy: 0.8849\n",
      "Epoch 14/75\n",
      "163/163 [==============================] - 106s 648ms/step - loss: 0.1788 - accuracy: 0.9300 - val_loss: 0.2691 - val_accuracy: 0.9079\n",
      "Epoch 15/75\n",
      "163/163 [==============================] - 113s 696ms/step - loss: 0.1663 - accuracy: 0.9342 - val_loss: 0.3726 - val_accuracy: 0.8799\n",
      "Epoch 16/75\n",
      "163/163 [==============================] - 109s 666ms/step - loss: 0.1680 - accuracy: 0.9337 - val_loss: 0.2910 - val_accuracy: 0.8964\n",
      "Epoch 17/75\n",
      "163/163 [==============================] - 119s 728ms/step - loss: 0.1607 - accuracy: 0.9381 - val_loss: 0.2828 - val_accuracy: 0.9079\n",
      "Epoch 18/75\n",
      "163/163 [==============================] - 92s 566ms/step - loss: 0.1580 - accuracy: 0.9394 - val_loss: 0.2725 - val_accuracy: 0.8997\n",
      "Epoch 19/75\n",
      "163/163 [==============================] - 87s 533ms/step - loss: 0.1583 - accuracy: 0.9413 - val_loss: 0.2934 - val_accuracy: 0.9062\n",
      "Epoch 20/75\n",
      "163/163 [==============================] - 98s 601ms/step - loss: 0.1587 - accuracy: 0.9381 - val_loss: 0.2644 - val_accuracy: 0.9128\n",
      "Epoch 21/75\n",
      "163/163 [==============================] - 110s 675ms/step - loss: 0.1544 - accuracy: 0.9438 - val_loss: 0.2635 - val_accuracy: 0.9095\n",
      "Epoch 22/75\n",
      "163/163 [==============================] - 105s 643ms/step - loss: 0.1511 - accuracy: 0.9444 - val_loss: 0.2752 - val_accuracy: 0.9030\n",
      "Epoch 23/75\n",
      "163/163 [==============================] - 104s 640ms/step - loss: 0.1549 - accuracy: 0.9456 - val_loss: 0.2992 - val_accuracy: 0.8964\n",
      "Epoch 24/75\n",
      "163/163 [==============================] - 91s 558ms/step - loss: 0.1498 - accuracy: 0.9404 - val_loss: 0.3783 - val_accuracy: 0.8898\n",
      "Epoch 25/75\n",
      "163/163 [==============================] - 86s 528ms/step - loss: 0.1441 - accuracy: 0.9440 - val_loss: 0.3371 - val_accuracy: 0.8980\n",
      "Epoch 26/75\n",
      "163/163 [==============================] - 86s 526ms/step - loss: 0.1427 - accuracy: 0.9471 - val_loss: 0.3541 - val_accuracy: 0.8766\n",
      "Epoch 27/75\n",
      "163/163 [==============================] - 86s 525ms/step - loss: 0.1364 - accuracy: 0.9457 - val_loss: 0.2951 - val_accuracy: 0.9030\n",
      "Epoch 28/75\n",
      "163/163 [==============================] - 88s 537ms/step - loss: 0.1478 - accuracy: 0.9446 - val_loss: 0.2212 - val_accuracy: 0.9227\n",
      "Epoch 29/75\n",
      "163/163 [==============================] - 86s 529ms/step - loss: 0.1407 - accuracy: 0.9461 - val_loss: 0.3307 - val_accuracy: 0.8931\n",
      "Epoch 30/75\n",
      "163/163 [==============================] - 87s 533ms/step - loss: 0.1480 - accuracy: 0.9442 - val_loss: 0.2916 - val_accuracy: 0.8931\n",
      "Epoch 31/75\n",
      "163/163 [==============================] - 86s 527ms/step - loss: 0.1375 - accuracy: 0.9502 - val_loss: 0.2496 - val_accuracy: 0.9211\n",
      "Epoch 32/75\n",
      "163/163 [==============================] - 86s 527ms/step - loss: 0.1374 - accuracy: 0.9477 - val_loss: 0.2971 - val_accuracy: 0.9062\n",
      "Epoch 33/75\n",
      "163/163 [==============================] - 86s 530ms/step - loss: 0.1289 - accuracy: 0.9507 - val_loss: 0.3032 - val_accuracy: 0.9095\n",
      "Epoch 34/75\n",
      "163/163 [==============================] - 87s 534ms/step - loss: 0.1271 - accuracy: 0.9511 - val_loss: 0.3283 - val_accuracy: 0.9013\n",
      "Epoch 35/75\n",
      "163/163 [==============================] - 86s 529ms/step - loss: 0.1347 - accuracy: 0.9515 - val_loss: 0.2659 - val_accuracy: 0.9112\n",
      "Epoch 36/75\n",
      "163/163 [==============================] - 87s 534ms/step - loss: 0.1260 - accuracy: 0.9553 - val_loss: 0.2417 - val_accuracy: 0.9309\n",
      "Epoch 37/75\n",
      "163/163 [==============================] - 86s 529ms/step - loss: 0.1255 - accuracy: 0.9546 - val_loss: 0.2994 - val_accuracy: 0.9095\n",
      "Epoch 38/75\n",
      "163/163 [==============================] - 87s 531ms/step - loss: 0.1332 - accuracy: 0.9502 - val_loss: 0.2389 - val_accuracy: 0.9211\n",
      "Epoch 39/75\n",
      "163/163 [==============================] - 87s 531ms/step - loss: 0.1188 - accuracy: 0.9546 - val_loss: 0.2494 - val_accuracy: 0.9227\n",
      "Epoch 40/75\n",
      "163/163 [==============================] - 87s 535ms/step - loss: 0.1269 - accuracy: 0.9536 - val_loss: 0.2414 - val_accuracy: 0.9178\n",
      "Epoch 41/75\n",
      "163/163 [==============================] - 87s 533ms/step - loss: 0.1192 - accuracy: 0.9549 - val_loss: 0.2540 - val_accuracy: 0.9211\n",
      "Epoch 42/75\n",
      "163/163 [==============================] - 86s 530ms/step - loss: 0.1218 - accuracy: 0.9530 - val_loss: 0.2789 - val_accuracy: 0.9260\n",
      "Epoch 43/75\n",
      "163/163 [==============================] - 87s 531ms/step - loss: 0.1307 - accuracy: 0.9551 - val_loss: 0.2585 - val_accuracy: 0.9128\n",
      "Epoch 44/75\n",
      "163/163 [==============================] - 86s 531ms/step - loss: 0.1244 - accuracy: 0.9536 - val_loss: 0.2564 - val_accuracy: 0.9194\n",
      "Epoch 45/75\n",
      "163/163 [==============================] - 87s 532ms/step - loss: 0.1182 - accuracy: 0.9571 - val_loss: 0.2276 - val_accuracy: 0.9293\n",
      "Epoch 46/75\n",
      "163/163 [==============================] - 86s 530ms/step - loss: 0.1221 - accuracy: 0.9538 - val_loss: 0.2187 - val_accuracy: 0.9276\n",
      "Epoch 47/75\n",
      "163/163 [==============================] - 86s 529ms/step - loss: 0.1218 - accuracy: 0.9544 - val_loss: 0.2549 - val_accuracy: 0.9161\n",
      "Epoch 48/75\n",
      "163/163 [==============================] - 87s 531ms/step - loss: 0.1151 - accuracy: 0.9609 - val_loss: 0.3625 - val_accuracy: 0.8783\n",
      "Epoch 49/75\n",
      "163/163 [==============================] - 88s 539ms/step - loss: 0.1222 - accuracy: 0.9532 - val_loss: 0.2250 - val_accuracy: 0.9309\n",
      "Epoch 50/75\n",
      "163/163 [==============================] - 87s 534ms/step - loss: 0.1235 - accuracy: 0.9544 - val_loss: 0.2227 - val_accuracy: 0.9128\n",
      "Epoch 51/75\n",
      "163/163 [==============================] - 87s 532ms/step - loss: 0.1101 - accuracy: 0.9572 - val_loss: 0.3302 - val_accuracy: 0.9128\n",
      "Epoch 52/75\n",
      "163/163 [==============================] - 89s 547ms/step - loss: 0.1224 - accuracy: 0.9572 - val_loss: 0.3381 - val_accuracy: 0.9030\n",
      "Epoch 53/75\n",
      "163/163 [==============================] - 88s 537ms/step - loss: 0.1166 - accuracy: 0.9572 - val_loss: 0.4243 - val_accuracy: 0.8388\n",
      "Epoch 54/75\n",
      "163/163 [==============================] - 87s 533ms/step - loss: 0.1179 - accuracy: 0.9569 - val_loss: 0.2381 - val_accuracy: 0.9161\n",
      "Epoch 55/75\n",
      "163/163 [==============================] - 87s 532ms/step - loss: 0.1151 - accuracy: 0.9563 - val_loss: 0.1942 - val_accuracy: 0.9260\n",
      "Epoch 56/75\n",
      "163/163 [==============================] - 87s 533ms/step - loss: 0.1109 - accuracy: 0.9592 - val_loss: 0.7149 - val_accuracy: 0.8569\n",
      "Epoch 57/75\n"
     ]
    },
    {
     "name": "stdout",
     "output_type": "stream",
     "text": [
      "163/163 [==============================] - 87s 532ms/step - loss: 0.1192 - accuracy: 0.9565 - val_loss: 0.2600 - val_accuracy: 0.9211\n",
      "Epoch 58/75\n",
      "163/163 [==============================] - 86s 529ms/step - loss: 0.1080 - accuracy: 0.9615 - val_loss: 0.2666 - val_accuracy: 0.9128\n",
      "Epoch 59/75\n",
      "163/163 [==============================] - 87s 532ms/step - loss: 0.1198 - accuracy: 0.9561 - val_loss: 0.3122 - val_accuracy: 0.9194\n",
      "Epoch 60/75\n",
      "163/163 [==============================] - 93s 573ms/step - loss: 0.1215 - accuracy: 0.9563 - val_loss: 0.2045 - val_accuracy: 0.9260\n",
      "Epoch 61/75\n",
      "163/163 [==============================] - 92s 564ms/step - loss: 0.1196 - accuracy: 0.9594 - val_loss: 0.2571 - val_accuracy: 0.9178\n",
      "Epoch 62/75\n",
      "163/163 [==============================] - 87s 531ms/step - loss: 0.1144 - accuracy: 0.9576 - val_loss: 0.3503 - val_accuracy: 0.8947\n",
      "Epoch 63/75\n",
      "163/163 [==============================] - 86s 530ms/step - loss: 0.1123 - accuracy: 0.9592 - val_loss: 0.2678 - val_accuracy: 0.9194\n",
      "Epoch 64/75\n",
      "163/163 [==============================] - 86s 529ms/step - loss: 0.1206 - accuracy: 0.9540 - val_loss: 0.6427 - val_accuracy: 0.8207\n",
      "Epoch 65/75\n",
      "163/163 [==============================] - 87s 531ms/step - loss: 0.1090 - accuracy: 0.9611 - val_loss: 0.2509 - val_accuracy: 0.9161\n",
      "Epoch 66/75\n",
      "163/163 [==============================] - 87s 531ms/step - loss: 0.1106 - accuracy: 0.9576 - val_loss: 0.3372 - val_accuracy: 0.8997\n",
      "Epoch 67/75\n",
      "163/163 [==============================] - 88s 537ms/step - loss: 0.1145 - accuracy: 0.9553 - val_loss: 0.2337 - val_accuracy: 0.9194\n",
      "Epoch 68/75\n",
      "163/163 [==============================] - 87s 533ms/step - loss: 0.1151 - accuracy: 0.9574 - val_loss: 0.2580 - val_accuracy: 0.9030\n",
      "Epoch 69/75\n",
      "163/163 [==============================] - 101s 622ms/step - loss: 0.1129 - accuracy: 0.9607 - val_loss: 0.2396 - val_accuracy: 0.9194\n",
      "Epoch 70/75\n",
      "163/163 [==============================] - 94s 575ms/step - loss: 0.1087 - accuracy: 0.9595 - val_loss: 0.2838 - val_accuracy: 0.9030\n",
      "Epoch 71/75\n",
      "163/163 [==============================] - 87s 536ms/step - loss: 0.1062 - accuracy: 0.9617 - val_loss: 0.2114 - val_accuracy: 0.9276\n",
      "Epoch 72/75\n",
      "163/163 [==============================] - 87s 533ms/step - loss: 0.1111 - accuracy: 0.9584 - val_loss: 0.4292 - val_accuracy: 0.8849\n",
      "Epoch 73/75\n",
      "163/163 [==============================] - 87s 532ms/step - loss: 0.1106 - accuracy: 0.9595 - val_loss: 0.3151 - val_accuracy: 0.8980\n",
      "Epoch 74/75\n",
      "163/163 [==============================] - 87s 531ms/step - loss: 0.1001 - accuracy: 0.9615 - val_loss: 0.2178 - val_accuracy: 0.9342\n",
      "Epoch 75/75\n",
      "163/163 [==============================] - 87s 531ms/step - loss: 0.1062 - accuracy: 0.9594 - val_loss: 0.3348 - val_accuracy: 0.9079\n"
     ]
    }
   ],
   "source": [
    "history = classifier.fit(training_dataset,\n",
    "                        steps_per_epoch = training_dataset.n//32,\n",
    "                        epochs=75,\n",
    "                        validation_data=testing_dataset,\n",
    "                        validation_steps=testing_dataset.n//32 \n",
    "                        )"
   ]
  },
  {
   "cell_type": "code",
   "execution_count": 22,
   "id": "04cb04af",
   "metadata": {},
   "outputs": [
    {
     "name": "stdout",
     "output_type": "stream",
     "text": [
      "Avg. Train Accuracy:  94.3\n",
      "Avg. Test Accuracy:   89.83\n",
      "Avg. Train Loss:  14.799999999999999\n",
      "Avg. Test Loss:   30.520000000000003\n"
     ]
    },
    {
     "data": {
      "image/png": "[encoded data removed]",
      "text/plain": [
       "<Figure size 640x480 with 1 Axes>"
      ]
     },
     "metadata": {},
     "output_type": "display_data"
    },
    {
     "data": {
      "image/png": "[encoded data removed]",
      "text/plain": [
       "<Figure size 640x480 with 1 Axes>"
      ]
     },
     "metadata": {},
     "output_type": "display_data"
    }
   ],
   "source": [
    "#validación del modelo\n",
    "import matplotlib.pyplot as plt\n",
    "acc = history.history['accuracy']\n",
    "val_acc = history.history['val_accuracy']\n",
    "loss = history.history['loss']\n",
    "val_loss = history.history['val_loss']\n",
    "print('Avg. Train Accuracy: ',round(np.mean(acc),3)*100)\n",
    "print('Avg. Test Accuracy:  ',round(np.mean(val_acc),4)*100)\n",
    "print('Avg. Train Loss: ',round(np.mean(loss),3)*100)\n",
    "print('Avg. Test Loss:  ',round(np.mean(val_loss),4)*100)\n",
    "epochs = range(len(acc))\n",
    "\n",
    "plt.figure()\n",
    "\n",
    "plt.plot(epochs, acc, 'bo', label='Training acc')\n",
    "plt.plot(epochs, val_acc, 'b', label='Validation acc')\n",
    "plt.title('Training and validation acc')\n",
    "plt.legend()\n",
    "plt.show()\n",
    "\n",
    "plt.plot(epochs, loss, 'bo', label='Training loss')\n",
    "plt.plot(epochs, val_loss, 'b', label='Validation loss')\n",
    "plt.title('Training and validation loss')\n",
    "plt.legend()\n",
    "\n",
    "plt.show()"
   ]
  },
  {
   "cell_type": "code",
   "execution_count": 23,
   "id": "42332148",
   "metadata": {},
   "outputs": [],
   "source": [
    "classifier.save('test_1.h5')"
   ]
  },
  {
   "cell_type": "code",
   "execution_count": 24,
   "id": "2c30598f",
   "metadata": {},
   "outputs": [
    {
     "name": "stdout",
     "output_type": "stream",
     "text": [
      "(64, 64, 3)\n",
      "(1, 64, 64, 3)\n",
      "1/1 [==============================] - 1s 798ms/step\n",
      "[[1.]]\n",
      "La foto es de un: Normal\n",
      "(64, 64, 3)\n",
      "(1, 64, 64, 3)\n",
      "1/1 [==============================] - 0s 21ms/step\n",
      "[[1.]]\n",
      "La foto es de un: Normal\n",
      "(64, 64, 3)\n",
      "(1, 64, 64, 3)\n",
      "1/1 [==============================] - 0s 23ms/step\n",
      "[[1.]]\n",
      "La foto es de un: Normal\n",
      "(64, 64, 3)\n",
      "(1, 64, 64, 3)\n",
      "1/1 [==============================] - 0s 29ms/step\n",
      "[[1.]]\n",
      "La foto es de un: Normal\n",
      "(64, 64, 3)\n",
      "(1, 64, 64, 3)\n",
      "1/1 [==============================] - 0s 22ms/step\n",
      "[[1.]]\n",
      "La foto es de un: Normal\n",
      "(64, 64, 3)\n",
      "(1, 64, 64, 3)\n",
      "1/1 [==============================] - 0s 24ms/step\n",
      "[[1.]]\n",
      "La foto es de un: Normal\n",
      "(64, 64, 3)\n",
      "(1, 64, 64, 3)\n",
      "1/1 [==============================] - 0s 25ms/step\n",
      "[[0.]]\n",
      "La foto es de un: Neumonia\n",
      "(64, 64, 3)\n",
      "(1, 64, 64, 3)\n",
      "1/1 [==============================] - 0s 24ms/step\n",
      "[[0.]]\n",
      "La foto es de un: Neumonia\n"
     ]
    }
   ],
   "source": [
    "######### Predicción\n",
    "image_val=[1427,1430,1431,1436,1437,1438,1440,1442]\n",
    "import numpy as np\n",
    "import matplotlib.pyplot as plt \n",
    "from keras.utils import load_img, img_to_array\n",
    "import numpy as np\n",
    "path=\"Data/val/NORMAL\"\n",
    "for i in image_val:\n",
    "  img_path=path+\"/NORMAL2-IM-\"+str(i)+\"-0001.jpeg\"\n",
    "  test_image = load_img(img_path, target_size = (64, 64, 3))\n",
    "  test_image = img_to_array(test_image)\n",
    "  print(test_image.shape)\n",
    "  test_image1 = np.expand_dims(test_image, axis = 0)\n",
    "  print(test_image1.shape)\n",
    "  result = classifier.predict(test_image1)\n",
    "  print(result)\n",
    "  training_dataset.class_indices\n",
    "  if result[0] > np.mean(val_acc):\n",
    "        prediction = 'Normal'\n",
    "  else:\n",
    "        prediction = 'Neumonia'\n",
    "\n",
    "  print('La foto es de un:' ,prediction)"
   ]
  },
  {
   "cell_type": "code",
   "execution_count": null,
   "id": "6512e73a",
   "metadata": {},
   "outputs": [],
   "source": []
  },
  {
   "cell_type": "code",
   "execution_count": null,
   "id": "9fe0eacd",
   "metadata": {},
   "outputs": [],
   "source": [
    "\n",
    "\n"
   ]
  }
 ],
 "metadata": {
  "hide_input": false,
  "kernelspec": {
   "display_name": "Python 3 (ipykernel)",
   "language": "python",
   "name": "python3"
  },
  "language_info": {
   "codemirror_mode": {
    "name": "ipython",
    "version": 3
   },
   "file_extension": ".py",
   "mimetype": "text/x-python",
   "name": "python",
   "nbconvert_exporter": "python",
   "pygments_lexer": "ipython3",
   "version": "3.9.13"
  },
  "nbTranslate": {
   "displayLangs": [
    "*"
   ],
   "hotkey": "alt-t",
   "langInMainMenu": true,
   "sourceLang": "en",
   "targetLang": "fr",
   "useGoogleTranslate": true
  },
  "toc": {
   "base_numbering": 1,
   "nav_menu": {},
   "number_sections": true,
   "sideBar": true,
   "skip_h1_title": false,
   "title_cell": "Table of Contents",
   "title_sidebar": "Contents",
   "toc_cell": false,
   "toc_position": {},
   "toc_section_display": true,
   "toc_window_display": false
  },
  "varInspector": {
   "cols": {
    "lenName": 16,
    "lenType": 16,
    "lenVar": 40
   },
   "kernels_config": {
    "python": {
     "delete_cmd_postfix": "",
     "delete_cmd_prefix": "del ",
     "library": "var_list.py",
     "varRefreshCmd": "print(var_dic_list())"
    },
    "r": {
     "delete_cmd_postfix": ") ",
     "delete_cmd_prefix": "rm(",
     "library": "var_list.r",
     "varRefreshCmd": "cat(var_dic_list()) "
    }
   },
   "types_to_exclude": [
    "module",
    "function",
    "builtin_function_or_method",
    "instance",
    "_Feature"
   ],
   "window_display": false
  }
 },
 "nbformat": 4,
 "nbformat_minor": 5
}
