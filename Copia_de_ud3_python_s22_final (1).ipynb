{
  "nbformat": 4,
  "nbformat_minor": 0,
  "metadata": {
    "kernelspec": {
      "display_name": "Python 3",
      "language": "python",
      "name": "python3"
    },
    "language_info": {
      "codemirror_mode": {
        "name": "ipython",
        "version": 3
      },
      "file_extension": ".py",
      "mimetype": "text/x-python",
      "name": "python",
      "nbconvert_exporter": "python",
      "pygments_lexer": "ipython3",
      "version": "3.7.4"
    },
    "colab": {
      "provenance": []
    }
  },
  "cells": [
    {
      "cell_type": "markdown",
      "metadata": {
        "id": "AkL5gXH1yxKE"
      },
      "source": [
        "<style type=\"text/css\">\n",
        "    ol { list-style-type: upper-alpha; }\n",
        "</style>\n",
        "\n",
        "<center> <img src=https://i.imgur.com/0TSSaqL.png width=\"550\"> </center>\n",
        "\n",
        "<center> <h3> Module 3: Programación en Python </h3> </center>\n",
        "<center> <h4> Sesiones síncronas - 20221216 - 2/2</h4> </center>"
      ]
    },
    {
      "cell_type": "markdown",
      "source": [
        "### **Ejercicio 11**\n",
        "Hacer un programa que simule los procesos de extracción de un cajero automático, permitiendo que el usuario tenga tres intentos de ingreso, en caso de error se deberá bloquear la tarjeta y saldremos de la aplicación. Si ingresa al sistema, el cajero deberá seleccionar entre la cuenta de ahorro, crédito o corriente. Una vez que haya seleccionado la cuenta, tendrá que elegir la cantidad a retirar (se deberá comprobar que tenga saldo suficiente, sino se le volverá a pedir la cantidad), se le descontará del saldo de la cuenta, se mostrará su saldo restante y nos volverá a preguntar el menú de selección de las cuentas. Con la opción 4 sale de la aplicación.\n"
      ],
      "metadata": {
        "id": "HzCWpkBWPuTh"
      }
    },
    {
      "cell_type": "code",
      "source": [
        "\n",
        "# Ejercicio 1\n",
        "# Ejemplo\n",
        "# CAJERO AUTOMATICO\n",
        "# Introduzca contraseña: 2585\n",
        "# Contador de fallos en usuario y contraseña: 1 \n",
        "# Introduzca contraseña: 1234\n",
        "# Seleccione cuenta:\n",
        "# 1 - Cuenta Ahorro\n",
        "# 2 - Cuenta Crédito\n",
        "# 3 - Cuenta Corriente\n",
        "# 4 - Salir\n",
        "# Introduzca la cuenta en la que quiere sacar: 1\n",
        "# Introduzca la cantidad que desea retirar: 6000\n",
        "# La cantidad seleccionada supera el saldo actual. \n",
        "# Introduzca una nueva cantidad inferior a retirar: 1000 \n",
        "# Saldo restante: 4000.0\n",
        "# Seleccione cuenta:\n",
        "# 1 - Cuenta Ahorro\n",
        "# 2 - Cuenta Crédito\n",
        "# 3 - Cuenta Corriente\n",
        "# 4 - Salir\n",
        "# Introduzca la cuenta en la que quiere sacar: 4\n",
        "def contra():\n",
        " contraseña = 2585\n",
        " contra = int(input(\"Introduzca la contraseña: \"))\n",
        " intentos = 0; inicio = True\n",
        " while(contra != contraseña):\n",
        "  intentos += 1\n",
        "  if(intentos >= 3):\n",
        "   print(\"ERROR, número de intentos superados\")\n",
        "   inicio = False\n",
        "   break\n",
        "  else:\n",
        "   contra = int(input(\"Contraseña incorrecta, intentelo de nuevo: \"))\n",
        "   continue\n",
        " return inicio\n",
        "\n",
        "def cajero(inicio):\n",
        " if(inicio == True):\n",
        "  cuentas_dict = dict(Ahorro = 6000, Crédito = 2000, Corriente = 7500)\n",
        "  cuenta = int(input(\"Selecciones una de las siguientes cuentas:\\n 1.Ahorro \\n 2.Crédito \\n 3.Corriente \\n 4.Salir \\n\"))\n",
        "  while(cuenta != 4):\n",
        "   print(\"Tiene el siguiente saldo en las cuentas: Ahorro= \", cuentas_dict.get(\"Ahorro\"),\" Crédito= \", cuentas_dict.get(\"Crédito\"), \" Corriente=\", cuentas_dict.get(\"Corriente\"))\n",
        "   retirar = float(input(\"\\n Introduzca la cantidad que desea retirar: \"))\n",
        "  \n",
        "   if(cuenta == 1):\n",
        "       r = cuentas_dict.get(\"Ahorro\")-retirar\n",
        "       while(r < 0):\n",
        "         retirar = float(input(\"\\n Introduzca de nuevo lo que desea retirar \" ))\n",
        "         r = cuentas_dict.get(\"Ahorro\")-retirar\n",
        "       cuentas_dict[\"Ahorro\"] -= retirar\n",
        "       print(\"El saldo restantes es de: \",cuentas_dict.get(\"Ahorro\"),\" debido a que ha retirado \", retirar )\n",
        "   elif(cuenta==2):\n",
        "       r = cuentas_dict.get(\"Crédito\")-retirar\n",
        "       while(r < 0):\n",
        "         retirar = float(input(\"\\n Introduzca de nuevo lo que desea retirar \" ))\n",
        "         r = cuentas_dict.get(\"Crédito\")-retirar\n",
        "       cuentas_dict[\"Crédito\"] -= retirar\n",
        "       print(\"El saldo restantes es de: \",cuentas_dict.get(\"Crédito\"),\" debido a que ha retirado \", retirar )\n",
        "   elif(cuenta == 3):\n",
        "       r = cuentas_dict.get(\"Corriente\")-retirar\n",
        "       while(r < 0):\n",
        "         retirar = float(input(\"\\n Introduzca de nuevo lo que desea retirar \" ))\n",
        "         r = cuentas_dict.get(\"Corriente\")-retirar\n",
        "       cuentas_dict[\"Corriente\"] -= retirar\n",
        "       print(\"El saldo restantes es de: \",cuentas_dict.get(\"Corriente\"),\" debido a que ha retirado \", retirar )\n",
        "   else: \n",
        "       print(\"Número no en el menú\")\n",
        "   cuenta = int(input(\"Selecciones una de las siguientes cuentas:\\n 1.Ahorro \\n 2.Crédito \\n 3.Corriente \\n 4.Salir \\n\"))\n",
        "\n",
        "#llamando a la fución\n",
        "cajero(contra()) \n",
        " \n",
        "\n"
      ],
      "metadata": {
        "id": "Lb1gawdBRQsB",
        "colab": {
          "base_uri": "https://localhost:8080/"
        },
        "outputId": "426fe144-c786-4389-da0d-90fbcd43b6fd"
      },
      "execution_count": null,
      "outputs": [
        {
          "output_type": "stream",
          "name": "stdout",
          "text": [
            "Introduzca la contraseña: 88876\n",
            "Contraseña incorrecta, intentelo de nuevo: 680754\n",
            "Contraseña incorrecta, intentelo de nuevo: 99877\n",
            "ERROR, número de intentos superados\n"
          ]
        }
      ]
    },
    {
      "cell_type": "markdown",
      "source": [
        "### **Ejercicio 12**\n",
        "Escribir un programa que pida al usuario un número entero positivo y muestre por pantalla todos los números impares desde 1 hasta ese número separados por comas."
      ],
      "metadata": {
        "id": "QnRPZIL4Tn7b"
      }
    },
    {
      "cell_type": "code",
      "source": [
        "# Ejercicio 12\n",
        "int_pos = int(input(\"Escriba un número entero positivo \"))\n",
        "listix = []\n",
        "if(int_pos%2 == 0):\n",
        " listix = list(range(1,int_pos,2))\n",
        " print(listix)\n",
        "else:\n",
        " listix = list(range(1,int_pos+1,2))\n",
        " print(listix)"
      ],
      "metadata": {
        "id": "0SgQB0rZTizb",
        "colab": {
          "base_uri": "https://localhost:8080/"
        },
        "outputId": "e9258509-1c92-49d5-8cfa-a0a914415cdd"
      },
      "execution_count": null,
      "outputs": [
        {
          "output_type": "stream",
          "name": "stdout",
          "text": [
            "Escriba un número entero positivo 11\n",
            "[1, 3, 5, 7, 9, 11]\n"
          ]
        }
      ]
    },
    {
      "cell_type": "markdown",
      "source": [
        "### **Ejercicio 13**\n",
        "Escribir un programa que pregunte al usuario una cantidad a invertir, el interés anual y el número de años, y muestre por pantalla el capital obtenido en la inversión cada año que dura la inversión.\n"
      ],
      "metadata": {
        "id": "NvFeiWtbVW7s"
      }
    },
    {
      "cell_type": "code",
      "source": [
        "# Ejercicio 13\n",
        "inversion = float(input(\"Introduzca el capital a invertir \"))\n",
        "interés = float(input(\"Introduzca el interés anual \"))\n",
        "años = int(input(\"Introduzca el número de años \"))\n",
        "print(\"El Capital obtenido anualmente es de: \", round(inversion*(1+interés/100)/años, 2))"
      ],
      "metadata": {
        "id": "pa-kn6xTVudQ",
        "colab": {
          "base_uri": "https://localhost:8080/"
        },
        "outputId": "94d246dd-0c66-4319-8e45-ed5defd0f160"
      },
      "execution_count": null,
      "outputs": [
        {
          "output_type": "stream",
          "name": "stdout",
          "text": [
            "Introduzca el capital a invertir 500\n",
            "Introduzca el interés anual 50\n",
            "Introduzca el número de años 2\n",
            "El Capital obtenido anualmente es de:  375.0\n"
          ]
        }
      ]
    },
    {
      "cell_type": "markdown",
      "source": [
        "### **Ejercicio 14**\n",
        "Escribir un programa en el que se pregunte al usuario por una frase y una letra, y muestre por pantalla el número de veces que aparece la letra en la frase.\n"
      ],
      "metadata": {
        "id": "a7FWLMXuWP40"
      }
    },
    {
      "cell_type": "code",
      "source": [
        "# Ejercicio 14\n",
        "frase = str(input(\"Introduzca una frase: \"))\n",
        "frase = frase.upper()\n",
        "letra = str(input(\"Introduzca una letra, de la cual quiere saber cuentas veces se repite: \"))\n",
        "letra = letra.upper()\n",
        "print(\"El número de veces que aparece repetido \", letra, \" : \", frase.count(letra))"
      ],
      "metadata": {
        "id": "t82Ph4Y0ei9I",
        "colab": {
          "base_uri": "https://localhost:8080/"
        },
        "outputId": "cff6f4d0-a56d-4b7c-fea5-8dad41303af9"
      },
      "execution_count": null,
      "outputs": [
        {
          "output_type": "stream",
          "name": "stdout",
          "text": [
            "Introduzca una frase: hooola\n",
            "Introduzca una letra, de la cual quiere saber cuentas veces se repite: o\n",
            "El número de veces que aparece repetido  O  :  3\n"
          ]
        }
      ]
    },
    {
      "cell_type": "markdown",
      "source": [
        "### **Ejercicio 15**\n",
        "Escribir un programa que permita al usuario introducir 6 números enteros, que pueden ser positivos o negativos. Al finalizar, mostrar la sumatoria de los números negativos y el promedio de los positivos.\n",
        "No olvides que no es posible dividir por cero, por lo que es necesario evitar que el programa devuelva un error si no se introdujeron números positivos."
      ],
      "metadata": {
        "id": "S2xUlEyIdAIp"
      }
    },
    {
      "cell_type": "code",
      "source": [
        "# Ejercicio 15\n",
        "lis_neg =[]\n",
        "lis_pos =[]\n",
        "i=0\n",
        "while(i<6):\n",
        " number = int(input(\"Introduzca un número entero positivo: \"))\n",
        " if(number>=0):\n",
        "  lis_pos.append(number)\n",
        "  i += 1\n",
        "\n",
        "print(lis_pos)\n",
        "#negativos\n",
        "a=0\n",
        "number = int(input(\"Introduzca un número entero negativo: \"))\n",
        "while(a<6):\n",
        " number = int(input(\"Introduzca un número entero negativo: \"))\n",
        " if(number<=0):\n",
        "  lis_neg.append(number)\n",
        "  a += 1\n",
        " \n",
        "print(lis_neg)\n",
        "print(\"La Sumatorio de los números negativos es de: \",sum(lis_neg))\n",
        "print(\"El promedio de los números positivos es de: \",sum(lis_pos)/len(lis_pos))"
      ],
      "metadata": {
        "id": "O4n3dK0rdDHj"
      },
      "execution_count": null,
      "outputs": []
    }
  ]
}