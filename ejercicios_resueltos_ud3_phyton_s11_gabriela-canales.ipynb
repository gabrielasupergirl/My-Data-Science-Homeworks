{
  "nbformat": 4,
  "nbformat_minor": 0,
  "metadata": {
    "kernelspec": {
      "display_name": "Python 3",
      "language": "python",
      "name": "python3"
    },
    "language_info": {
      "codemirror_mode": {
        "name": "ipython",
        "version": 3
      },
      "file_extension": ".py",
      "mimetype": "text/x-python",
      "name": "python",
      "nbconvert_exporter": "python",
      "pygments_lexer": "ipython3",
      "version": "3.7.4"
    },
    "colab": {
      "provenance": []
    }
  },
  "cells": [
    {
      "cell_type": "markdown",
      "metadata": {
        "id": "AkL5gXH1yxKE"
      },
      "source": [
        "<style type=\"text/css\">\n",
        "    ol { list-style-type: upper-alpha; }\n",
        "</style>\n",
        "\n",
        "<center> <img src=https://i.imgur.com/0TSSaqL.png width=\"550\"> </center>\n",
        "\n",
        "<center> <h3> Module 3: Programación en Python </h3> </center>\n",
        "<center> <h4> Sesiones síncronas - 20221209 - 1/2</h4> </center>"
      ]
    },
    {
      "cell_type": "markdown",
      "source": [
        "### Ejercicio 1\n",
        "Escribe cuatro programas que:\n",
        "- Asigne a una variable el valor 3 y nos muestre esa variable y su tipo.\n",
        "- Asigne a una variable el valor 14.2 y nos muestre esa variable y su tipo.\n",
        "- Asigne a una variable el valor True y nos muestre esa variable y su tipo.\n",
        "- Asigne a una variable el valor \"Data Science\" y nos muestre esa variable y su tipo."
      ],
      "metadata": {
        "id": "HzCWpkBWPuTh"
      }
    },
    {
      "cell_type": "code",
      "source": [
        "# Ejercicio 1\n",
        "x = 3; y = 14.2; z = True; f= \"Data Science\"\n",
        "print(\"valor: \", x, \" type: \", type(x)); print(\"valor: \", y, \" type: \", type(y)); print(\"valor: \", z, \" type: \", type(z));print(\"valor: \", f, \" type: \", type(f))\n"
      ],
      "metadata": {
        "id": "Lb1gawdBRQsB",
        "colab": {
          "base_uri": "https://localhost:8080/"
        },
        "outputId": "23c0d951-dd40-46e2-ddd2-fe2c341bac4d"
      },
      "execution_count": null,
      "outputs": [
        {
          "output_type": "stream",
          "name": "stdout",
          "text": [
            "valor:  3  type:  <class 'int'>\n",
            "valor:  14.2  type:  <class 'float'>\n",
            "valor:  True  type:  <class 'bool'>\n",
            "valor:  Data Science  type:  <class 'str'>\n"
          ]
        }
      ]
    },
    {
      "cell_type": "markdown",
      "source": [
        "### **Ejercicio 2**\n",
        "Escribir un programa que pregunte al usuario su nombre y luego lo salude"
      ],
      "metadata": {
        "id": "QnRPZIL4Tn7b"
      }
    },
    {
      "cell_type": "code",
      "source": [
        "# Ejercicio 2\n",
        "nombre = str(input(\" ¿Cuál es su nombre? \"))\n",
        "print(\"Hola\", nombre)"
      ],
      "metadata": {
        "id": "0SgQB0rZTizb",
        "colab": {
          "base_uri": "https://localhost:8080/"
        },
        "outputId": "0a6c4cdf-307d-4ce4-eb61-96f752d25b1e"
      },
      "execution_count": null,
      "outputs": [
        {
          "output_type": "stream",
          "name": "stdout",
          "text": [
            " ¿Cuál es su nombre? GABY\n",
            "Hola GABY\n"
          ]
        }
      ]
    },
    {
      "cell_type": "markdown",
      "source": [
        "### **Ejercicio 3**\n",
        "Escribir un programa que pregunte al usuario dos números y luego muestre:\n",
        "1. La suma\n",
        "2. La resta\n",
        "3. La división\n",
        "4. El producto"
      ],
      "metadata": {
        "id": "NvFeiWtbVW7s"
      }
    },
    {
      "cell_type": "code",
      "source": [
        "# Ejercicio 3\n",
        "num1, num2 = float(input(\"Introduzca primer número: \")), float(input(\"Introduzca segundo número: \"))\n",
        "print(\"suma: \", num1+num2, \"resta: \", abs(num1-num2), \"división: \", num1/num2, \"producto: \", num1*num2)"
      ],
      "metadata": {
        "id": "pa-kn6xTVudQ",
        "colab": {
          "base_uri": "https://localhost:8080/"
        },
        "outputId": "9fb566d0-16f6-4b8e-c03e-8c68724c217b"
      },
      "execution_count": null,
      "outputs": [
        {
          "output_type": "stream",
          "name": "stdout",
          "text": [
            "Introduzca primer número: 2\n",
            "Introduzca segundo número: 4\n",
            "suma:  6.0 resta:  2.0 división:  0.5 producto:  8.0\n"
          ]
        }
      ]
    },
    {
      "cell_type": "code",
      "source": [],
      "metadata": {
        "id": "IjX3gV1ONj-_"
      },
      "execution_count": null,
      "outputs": []
    },
    {
      "cell_type": "markdown",
      "source": [
        "### Ejercicio 4\n",
        "Escribir un programa que pregunte al usuario los valor booleanos de verdad y falso guardándolos en dos variables, y utilizarlas para mostrar por pantalla las tablas de verdad de la conjunción A∧B, mediante el uso de operadores.\n",
        "\n",
        "Pista: en el caso de los booleanos, en el sistema I/O, es necesario utilizar la función eval() para traducir los inputs de cadenas de texto a booleanos ya que el uso de bool() validaría que hemos introducido información, no lo transforma"
      ],
      "metadata": {
        "id": "a7FWLMXuWP40"
      }
    },
    {
      "cell_type": "code",
      "source": [
        "# Ejercicio 4\n",
        "A, B = eval(input(\"Introduzca True or False \")), eval(input(\"Introduzca True or False de nuevo \"))\n",
        "print(\"A=FALSE AND B=TRUE: \", \"FALSE\"); print(\"A=TRUE AND B=FALSE: \", \"FALSE\"); print(\"A=TRUE AND B=TRUE: \", \"TRUE\"); print(\"A=FALSE AND B=FALSE: \", \"FALSE\")"
      ],
      "metadata": {
        "id": "t82Ph4Y0ei9I",
        "colab": {
          "base_uri": "https://localhost:8080/"
        },
        "outputId": "7548b5e5-5256-45f0-86d1-38109652318a"
      },
      "execution_count": null,
      "outputs": [
        {
          "output_type": "stream",
          "name": "stdout",
          "text": [
            "Introduzca True or False True\n",
            "Introduzca True or False de nuevo False\n",
            "A=FALSE AND B=TRUE:  FALSE\n",
            "A=TRUE AND B=FALSE:  FALSE\n",
            "A=TRUE AND B=TRUE:  TRUE\n",
            "A=FALSE AND B=FALSE:  FALSE\n"
          ]
        }
      ]
    },
    {
      "cell_type": "markdown",
      "source": [
        "### Ejercicio 5\n",
        "Escribir un programa que pregunte al usuario los valor booleanos de verdad y falso guardándolos en dos variables, y utilizarlas para mostrar por pantalla las tablas de verdad de la conjunción AvB, mediante el uso de operadores.\n",
        "\n",
        "Pista: en el caso de los booleanos, en el sistema I/O, es necesario utilizar la función eval() para traducir los inputs de cadenas de texto a booleanos ya que el uso de bool() validaría que hemos introducido información, no lo transforma"
      ],
      "metadata": {
        "id": "S2xUlEyIdAIp"
      }
    },
    {
      "cell_type": "code",
      "source": [
        "# Ejercicio 5\n",
        "A, B = eval(input(\"Introduzca True or False \")), eval(input(\"Introduzca True or False de nuevo \"))\n",
        "print(\"A=FALSE OR B=TRUE: \", \"TRUE\"); print(\"A=TRUE OR B=FALSE: \", \"TRUE\"); print(\"A=TRUE OR B=TRUE: \", \"TRUE\"); print(\"A=FALSE OR B=FALSE: \", \"FALSE\")"
      ],
      "metadata": {
        "id": "O4n3dK0rdDHj",
        "colab": {
          "base_uri": "https://localhost:8080/"
        },
        "outputId": "15a142dd-9e58-4cf5-803f-17ab7add9dcc"
      },
      "execution_count": null,
      "outputs": [
        {
          "output_type": "stream",
          "name": "stdout",
          "text": [
            "Introduzca True or False True\n",
            "Introduzca True or False de nuevo False\n",
            "A=FALSE OR B=TRUE:  TRUE\n",
            "A=TRUE OR B=FALSE:  TRUE\n",
            "A=TRUE OR B=TRUE:  TRUE\n",
            "A=FALSE OR B=FALSE:  FALSE\n"
          ]
        }
      ]
    },
    {
      "cell_type": "markdown",
      "source": [
        "### Ejercicio 6\n",
        "Escribir un programa que asigne en variables distintas los nombres de los profesores del máster en data science de IMMUNE que habéis conocido hasta ahora y por pantalla muestre, en líneas distintas, el siguiente output:\n",
        "```\n",
        "Asignatura: y - x\n",
        "```\n",
        "dónde x es el nombre del profesor/a e y es la asignatura cubierta.\n",
        "\n",
        "(Pista: en caso de querer utilizar una única llamada a la función print, utilizar el carácter ``\\n`` para hacer un salto de línea)"
      ],
      "metadata": {
        "id": "bMIzZfKfekEj"
      }
    },
    {
      "cell_type": "code",
      "source": [
        "# Ejercicio 6\n",
        "profesor1, profesor2, profesor3 = \"Elena\", \"Luis\", \"Profesor de R\"\n",
        "print(profesor1, \"-\", \"Modulo1\\n\",profesor2, \"-\", \"Modulo2\\n\",profesor3, \"-\", \"Modulo3\\n\" )"
      ],
      "metadata": {
        "id": "YXsLnQYNelZU",
        "colab": {
          "base_uri": "https://localhost:8080/"
        },
        "outputId": "a4b7eaa7-4f6e-4030-b167-fbd68fff4297"
      },
      "execution_count": null,
      "outputs": [
        {
          "output_type": "stream",
          "name": "stdout",
          "text": [
            "Elena - Modulo1\n",
            " Luis - Modulo2\n",
            " Profesor de R - Modulo3\n",
            "\n"
          ]
        }
      ]
    },
    {
      "cell_type": "markdown",
      "source": [
        "### Ejercicio 7\n",
        "Escribir un programa que solicite al usuario el radio de una esfera y muestre su área\n",
        "\n",
        "\\begin{equation}\n",
        "\\mathrm{A}(r) = {4} {\\pi} r^{{2}}\n",
        "\\end{equation}\n",
        "\n",
        "y su volúmen\n",
        "\\begin{equation}\n",
        "\\mathrm{V}(r) = \\frac{{4}}{{3}} {\\pi} r^{{3}}\n",
        "\\end{equation}\n",
        "\n",
        "Bastaría con definir en una variable una estimación del numero pi."
      ],
      "metadata": {
        "id": "X1p-8jZfel2i"
      }
    },
    {
      "cell_type": "code",
      "source": [
        "# Ejercicio 7\n",
        "# Ejemplo: un radio de 15.7 resultaría en un área de 3097.39 y un volúmen de 16209.69\n",
        "radio = float(input(\"Introduzca su radio: \"))\n",
        "pi = 3.1417\n",
        "area = round(4*pi*radio**2,2)\n",
        "volumen = round((4/3)*pi*radio**3,2)\n",
        "print(\"EL ÁREA ES: \", area, \"EL VOLUMEN ES: \", volumen)\n"
      ],
      "metadata": {
        "id": "4iXY6vQAenYV",
        "colab": {
          "base_uri": "https://localhost:8080/"
        },
        "outputId": "86abbd3a-1804-49b3-9af3-2a114fe1a10f"
      },
      "execution_count": null,
      "outputs": [
        {
          "output_type": "stream",
          "name": "stdout",
          "text": [
            "Introduzca su radio: 15.7\n",
            "EL ÁREA ES:  3097.59 EL VOLUMEN ES:  16210.72\n"
          ]
        }
      ]
    },
    {
      "cell_type": "markdown",
      "source": [
        "### Ejercicio 8\n",
        "Escribir un programa que solicite las coordernadas de dos puntos en el plano de los reales y calculer la distancia euclídea entre ambos.\n",
        "\n",
        "\\begin{equation}\n",
        "\\mathrm{d}(p1, p2) = \\sqrt{\\left( x_2 - x_1 \\right)^{{2}} + \\left( y_2 - y_1 \\right)^{{2}}}\n",
        "\\end{equation}"
      ],
      "metadata": {
        "id": "Uzhe7V34en_q"
      }
    },
    {
      "cell_type": "code",
      "source": [
        "# Ejercicio 8\n",
        "# Ejemplo: la distancia entre los puntos p1 = (2, 6) y p2 = (3, 6) es 1\n",
        "x,y,x1,y1 = float(input(\"INTRODUZCA LA COORDENADA X del primer punto: \")), float(input(\"INTRODUZCA LA COORDENADA Y del primer punto: \")), float(input(\"INTRODUZCA LA COORDENADA X del segundo punto: \")), float(input(\"INTRODUZCA LA COORDENADA Y del segundo punto: \"))\n",
        "res = (x1-x)**2 + (y1-y)**2\n",
        "res = (res)**(1/2)\n",
        "print(\"LA DISTANCIA ENTRE ESOS DOS PUNTOS ES: \", res)"
      ],
      "metadata": {
        "id": "iDikBjQLeqPc",
        "colab": {
          "base_uri": "https://localhost:8080/"
        },
        "outputId": "2577c5f1-2ccd-46cf-f375-faf1fc7c36ec"
      },
      "execution_count": null,
      "outputs": [
        {
          "output_type": "stream",
          "name": "stdout",
          "text": [
            "INTRODUZCA LA COORDENADA X del primer punto: 2\n",
            "INTRODUZCA LA COORDENADA Y del primer punto: 6\n",
            "INTRODUZCA LA COORDENADA X del segundo punto: 3\n",
            "INTRODUZCA LA COORDENADA Y del segundo punto: 6\n",
            "LA DISTANCIA ENTRE ESOS DOS PUNTOS ES:  1.0\n"
          ]
        }
      ]
    },
    {
      "cell_type": "markdown",
      "source": [
        "### Ejercicio 9\n",
        "Escribir un programa que pida al usuario un capital inicial, una tasa de interés y un número de años. Muestra por pantalla en cuánto se habrá convertido el capital inicial transcurridos esos años si cada año se aplica la tasa de interés introducida.\n",
        "\n",
        "Pista: Recuerda que un capital de C euros a un interés del x% durante n años se convierten en\n",
        "\\begin{equation}\n",
        "C \\left( {1} + \\frac{x}{{100}} \\right)^{n}\n",
        "\\end{equation}\n",
        "\n",
        "\n",
        "\n"
      ],
      "metadata": {
        "id": "Ft-kvGV8eqqs"
      }
    },
    {
      "cell_type": "code",
      "source": [
        "# Ejercicio 9\n",
        "# Ejemplo: 10000 euros al 4.5% de interés anual se convierte en 24117.14 al cabo de 20 años\n",
        "capital, interes, anios = float(input(\"INGRESE EL CAPITAL INICIAL: \")), float(input(\"INGRESE LA TASA DE INTERÉS: \")), float(input(\"INTRODUZCA AÑOS: \"))\n",
        "capital2 = capital*(1 + (interes/100))**anios\n",
        "print(\"El capital es: \", round(capital2, 2))"
      ],
      "metadata": {
        "id": "5adfrNdzerQO",
        "colab": {
          "base_uri": "https://localhost:8080/"
        },
        "outputId": "4de82965-2fde-45e4-9ad8-b3cfd97d7158"
      },
      "execution_count": null,
      "outputs": [
        {
          "output_type": "stream",
          "name": "stdout",
          "text": [
            "INGRESE EL CAPITAL INICIAL: 2000\n",
            "INGRESE LA TASA DE INTERÉS: 20\n",
            "INTRODUZCA AÑOS: 5\n",
            "El capital es:  4976.64\n"
          ]
        }
      ]
    },
    {
      "cell_type": "markdown",
      "source": [
        "### Ejercicio 10\n",
        "Escribir un programa que solicite los valores de los coeficientes a, b y c de una ecuación de segundo grado, donde:\n",
        "\\begin{equation}\n",
        "a x^{{2}} + b x + c = 0\n",
        "\\end{equation}\n",
        "\n",
        "Muestre las soluciones de la ecuación.\n",
        "\n",
        "Pista: Recuerda que una ecuación de segundo grado acepta dos soluciones\n",
        "\\begin{equation}\n",
        "{x_1} = \\frac{-b + \\sqrt{b^{{2}} - {4} a c}}{{2} a}, \n",
        "{x_2} = \\frac{-b - \\sqrt{b^{{2}} - {4} a c}}{{2} a}\n",
        "\\end{equation}\n",
        "\n"
      ],
      "metadata": {
        "id": "wP05IyZzerkf"
      }
    },
    {
      "cell_type": "code",
      "source": [
        "\n",
        "# Ejercicio 10\n",
        "# Ejemplo: una ecuación de segundo grado con coeficientes a = 1, b = -5 y c = 6 tiene como soluciones x1 = 3 y x2 = 2\n",
        "a, b, c = int(input(\"INTRODUZCA EL COEFICIENTE DEL TÉRMINO CUADRÁTICO DE LA ECUACIÓN: \")), int(input(\"INTRODUZCA EL COEFICIENTE DEL TÉRMINO LINEAL DE LA ECUACIÓN: \")), int(input(\"INTRODUZCA LA CONSTANTE DE LA ECUACIÓN: \"))\n",
        "sol1 = (-b+(b**2-(4*a*c))**(1/2))/(2*a); sol2 = (-b-(b**2-(4*a*c))**(1/2))/(2*a)\n",
        "print(\"Las soluciones son: x1 = \", sol1, \"x2 = \", sol2)"
      ],
      "metadata": {
        "id": "nsbsWR_fesIG",
        "colab": {
          "base_uri": "https://localhost:8080/"
        },
        "outputId": "6c727831-2671-4f24-8090-68ef27460e82"
      },
      "execution_count": null,
      "outputs": [
        {
          "output_type": "stream",
          "name": "stdout",
          "text": [
            "INTRODUZCA EL COEFICIENTE DEL TÉRMINO CUADRÁTICO DE LA ECUACIÓN: 4\n",
            "INTRODUZCA EL COEFICIENTE DEL TÉRMINO LINEAL DE LA ECUACIÓN: 4\n",
            "INTRODUZCA LA CONSTANTE DE LA ECUACIÓN: 4\n",
            "Las soluciones son: x1 =  (-0.49999999999999994+0.8660254037844386j) x2 =  (-0.5-0.8660254037844386j)\n"
          ]
        }
      ]
    }
  ]
}