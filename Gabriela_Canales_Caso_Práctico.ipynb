{
  "nbformat": 4,
  "nbformat_minor": 0,
  "metadata": {
    "colab": {
      "provenance": []
    },
    "kernelspec": {
      "name": "python3",
      "display_name": "Python 3"
    },
    "language_info": {
      "name": "python"
    }
  },
  "cells": [
    {
      "cell_type": "markdown",
      "source": [
        "Como desarrollador de la compañía se te solicita diseñar esta funcionalidad con los siguientes requisitos:\n",
        "\n",
        "Esta funcionalidad se debe invocar a través de una función llamada conversor_de_tiempo().\n",
        "Al usuario se le solicitan 2 parámetros: el número de segundo a convertir y la unidad destino (minutos, horas o días).\n",
        "El resultado debe mostrar el valor original en segundos y el nuevo valor de la equivalencia.\n",
        "El número de segundos no puede ser negativo y si el usuario solicita su conversión debe mostrar un mensaje de error de que el número a convertir debe ser positivo.\n",
        "Si el usuario introduce una cadena de texto en el número de segundos también debe informar al usuario de que esa salida no es la esperada.\n",
        "A continuación, se muestran unos pares de entradas y salidas para mostrar la funcionalidad:\n",
        "conversor_de_tiempo(0, ‘minutos’) -> 0 segundos equivalen a 0,00 minutos.\n",
        "conversor_de_tiempo(60, ‘minutos’) -> 60 segundos equivalen a 1,00 minuto.\n",
        "conversor_de_tiempo(120, ‘minutos’) -> 60 segundos equivalen a 2,01 minuto."
      ],
      "metadata": {
        "id": "y8SXMwWnTlCh"
      }
    },
    {
      "cell_type": "code",
      "execution_count": 6,
      "metadata": {
        "colab": {
          "base_uri": "https://localhost:8080/"
        },
        "id": "jtsx4yUtTj0I",
        "outputId": "dab56860-1b96-4577-d30c-394b85870ab9"
      },
      "outputs": [
        {
          "output_type": "stream",
          "name": "stdout",
          "text": [
            "Ingrese la cantidad de segundos que desea convertir: -100\n",
            "Presione:\n",
            "1.Segundos - Horas\n",
            "2.Segundos - Minutos\n",
            "3.Segundos - Días\n",
            "g\n",
            "ERROR: Valor negativo detectado!\n",
            "Ingrese la cantidad de segundos que desea convertir: 100\n",
            "Presione:\n",
            "1.Segundos - Horas\n",
            "2.Segundos - Minutos\n",
            "3.Segundos - Días\n",
            "9\n",
            "Opción no válida\n",
            "Ingrese la cantidad de segundos que desea convertir: 100\n",
            "Presione:\n",
            "1.Segundos - Horas\n",
            "2.Segundos - Minutos\n",
            "3.Segundos - Días\n",
            "h\n",
            "Opción no válida\n",
            "Ingrese la cantidad de segundos que desea convertir: 100\n",
            "Presione:\n",
            "1.Segundos - Horas\n",
            "2.Segundos - Minutos\n",
            "3.Segundos - Días\n",
            "1\n",
            "100.0 segundos equivalen a 0.03 horas\n"
          ]
        }
      ],
      "source": [
        "\n",
        "######función########\n",
        "def time_convert():\n",
        " try:\n",
        "  segundos = float(input(\"Ingrese la cantidad de segundos que desea convertir: \"))\n",
        "  unidad = str(input(\"Presione:\\n1.Segundos - Horas\\n2.Segundos - Minutos\\n3.Segundos - Días\\n\"))\n",
        "  if(segundos < 0):\n",
        "    raise Exception \n",
        "  if(unidad == \"1\"):\n",
        "   print(segundos, \"segundos equivalen a\", round((segundos/3600),2), \"horas\")\n",
        "  elif(unidad == \"2\"):\n",
        "   print(segundos, \"segundos equivalen a\", round((segundos/60),2), \"minutos\")\n",
        "  elif(unidad == \"3\"):\n",
        "    print(segundos, \"segundos equivalen a\", round((segundos/(3600*24)),2), \"días\")\n",
        "  else:\n",
        "    print(\"Opción no válida\")\n",
        "    time_convert()\n",
        "\n",
        " except ValueError as error:\n",
        "  print(\"ERROR: Valor no númerico detectado!\")\n",
        "  time_convert()\n",
        "\n",
        " except Exception as error:\n",
        "   print(\"ERROR: Valor negativo detectado!\")\n",
        "   time_convert()\n",
        "\n",
        "\n",
        "########usuario######### \n",
        "\n",
        "\n",
        "time_convert()\n"
      ]
    }
  ]
}