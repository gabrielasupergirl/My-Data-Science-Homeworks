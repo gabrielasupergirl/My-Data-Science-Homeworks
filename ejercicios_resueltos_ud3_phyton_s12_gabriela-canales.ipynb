{
  "nbformat": 4,
  "nbformat_minor": 0,
  "metadata": {
    "kernelspec": {
      "display_name": "Python 3",
      "language": "python",
      "name": "python3"
    },
    "language_info": {
      "codemirror_mode": {
        "name": "ipython",
        "version": 3
      },
      "file_extension": ".py",
      "mimetype": "text/x-python",
      "name": "python",
      "nbconvert_exporter": "python",
      "pygments_lexer": "ipython3",
      "version": "3.7.4"
    },
    "colab": {
      "provenance": []
    }
  },
  "cells": [
    {
      "cell_type": "markdown",
      "metadata": {
        "id": "AkL5gXH1yxKE"
      },
      "source": [
        "<style type=\"text/css\">\n",
        "    ol { list-style-type: upper-alpha; }\n",
        "</style>\n",
        "\n",
        "<center> <img src=https://i.imgur.com/0TSSaqL.png width=\"550\"> </center>\n",
        "\n",
        "<center> <h3> Module 3: Programación en Python </h3> </center>\n",
        "<center> <h4> Sesiones síncronas - 20221209 - 2/2</h4> </center>"
      ]
    },
    {
      "cell_type": "markdown",
      "source": [
        "### Ejercicio 11\n",
        "Escribir un programa que pregunte al usuario por el número de horas trabajadas y el coste por hora. Después debe mostrar por pantalla la paga que le corresponde."
      ],
      "metadata": {
        "id": "HzCWpkBWPuTh"
      }
    },
    {
      "cell_type": "code",
      "source": [
        "# Ejercicio 11\n",
        "hora_trab, costo_hr = int(input(\"¿ Cúantas horas has trabajado? \")), int(input(\"¿ Cúanto es el costo por hora de trabajo? \"))\n",
        "print(\"Tú sueldo es de: \", hora_trab*costo_hr)\n",
        "\n"
      ],
      "metadata": {
        "id": "Lb1gawdBRQsB",
        "colab": {
          "base_uri": "https://localhost:8080/"
        },
        "outputId": "f04c2dda-cf82-43f2-b675-cad0b4fa9abe"
      },
      "execution_count": 2,
      "outputs": [
        {
          "output_type": "stream",
          "name": "stdout",
          "text": [
            "¿ Cúantas horas has trabajado? 3\n",
            "¿ Cúanto es el costo por hora de trabajo? 3\n",
            "Tú sueldo es de:  9\n",
            "<class 'int'>\n"
          ]
        }
      ]
    },
    {
      "cell_type": "markdown",
      "source": [
        "### Ejercicio 12\n",
        "Escribir un programa que lea un entero positivo, n, introducido por el usuario y después muestre en pantalla la suma de todos los enteros desde 1 hasta n. La suma de los n primeros enteros positivos puede ser calculada de la siguiente forma:\n",
        "\\begin{equation}\n",
        "\\mathrm{suma} = \\frac{n \\left( n + {1} \\right)}{{2}}\n",
        "\\end{equation}"
      ],
      "metadata": {
        "id": "icj-e9UIv-TX"
      }
    },
    {
      "cell_type": "code",
      "source": [
        "# Ejercicio 12\n",
        "int_pos = int(input(\"Introduzca un entero positivo:\" ))\n",
        "is_int = isinstance(int_pos, int)\n",
        "while(int_pos < 0 or  is_int == False):\n",
        "  int_pos = int(input(\"Introduzca un entero positivo válido:\" ))\n",
        "suma = (int_pos*(int_pos+1))//2\n",
        "print(\"LA SUMA DE TODOS LOS NÚMEROS HASTA\", int_pos, \"es = \", suma)"
      ],
      "metadata": {
        "id": "6npQkEYdwgO3",
        "colab": {
          "base_uri": "https://localhost:8080/"
        },
        "outputId": "6d4e3718-91af-4944-ac34-11e2faf83b49"
      },
      "execution_count": 21,
      "outputs": [
        {
          "output_type": "stream",
          "name": "stdout",
          "text": [
            "Introduzca un entero positivo:5\n",
            "LA SUMA DE TODOS LOS NÚMEROS HASTA 5 es =  15\n"
          ]
        }
      ]
    },
    {
      "cell_type": "markdown",
      "source": [
        "### Ejercicio 13\n",
        "Escribir un programa que pida al usuario dos números enteros y muestre por pantalla:\n",
        "```\n",
        "La división de n entre m da un cociente c y un resto r\n",
        "```\n",
        "Donde n y m son los números introducidos, c es el cociente de la división entera y r el resto.\n",
        "\n",
        "Pista: en Python 3.x.y el operador `/` lleva a cabo la división real, mientras que `//` lleva a cabo la entera, y `%` nos permite encontrar el módulo de un número frente a otro, o lo que es lo mismo, el resto de la división entera de un número entre otro."
      ],
      "metadata": {
        "id": "vIKiFbevhWhz"
      }
    },
    {
      "cell_type": "code",
      "source": [
        "# Ejercicio 13\n",
        "n,m = int(input(\"Introduzca el dividiendo: \")), int(input(\"Introduzca el divisor: \")) \n",
        "cociente = n//m\n",
        "residuo = n%m\n",
        "print(\" el cociente de la división \",n, \"/\", m, \" = \", cociente, \"y el residuo es: \", residuo)"
      ],
      "metadata": {
        "colab": {
          "base_uri": "https://localhost:8080/"
        },
        "id": "Rp9JTQC6hUfi",
        "outputId": "018afdd8-17d2-49e5-f871-b4dc28d1b489"
      },
      "execution_count": 24,
      "outputs": [
        {
          "output_type": "stream",
          "name": "stdout",
          "text": [
            "Introduzca el dividiendo: 10\n",
            "Introduzca el divisor: 3\n",
            " el cociente de la división  10 / 3  =  3 el residuos es:  1\n"
          ]
        }
      ]
    },
    {
      "cell_type": "markdown",
      "source": [
        "### Ejercicio 14\n",
        "Escribir un programa que pregunte el nombre del usuario en la consola y después de que el usuario lo introduzca muestre por pantalla el mensaje:\n",
        "```\n",
        "x tiene n letras\n",
        "```\n",
        "donde x es el nombre introducido en mayúsculas y n es el número de letras que tienen el nombre."
      ],
      "metadata": {
        "id": "QnRPZIL4Tn7b"
      }
    },
    {
      "cell_type": "code",
      "source": [
        "# Ejercicio 14\n",
        "name = str(input(\"ESCRIBA SU NOMBRE: \"))\n",
        "name = name.upper()\n",
        "print(\"EL NÚMERO DE LETRAS QUE CONTIENE \", name,\" ES DE: \", len(name))"
      ],
      "metadata": {
        "id": "0SgQB0rZTizb",
        "colab": {
          "base_uri": "https://localhost:8080/"
        },
        "outputId": "62c2945a-8efa-414a-edaf-77456b7787c6"
      },
      "execution_count": 28,
      "outputs": [
        {
          "output_type": "stream",
          "name": "stdout",
          "text": [
            "ESCRIBA SU NOMBRE: gabriela\n",
            "GABRIELA\n",
            "EL NÚMERO DE LETRAS QUE CONTIENE   GABRIELA  ES DE:  8\n"
          ]
        }
      ]
    },
    {
      "cell_type": "markdown",
      "source": [
        "### Ejercicio 15\n",
        "Una juguetería tiene mucho éxito en dos de sus productos: payasos y muñecas. Suele hacer venta por correo y la empresa de logística les cobra por peso de cada paquete así que deben calcular el peso de los payasos y muñecas que saldrán en cada paquete a demanda. Cada payaso pesa 112 g y cada muñeca 75 g. Escribir un programa que lea el número de payasos y muñecas vendidos en el último pedido y calcule el peso total del paquete que será enviado."
      ],
      "metadata": {
        "id": "NvFeiWtbVW7s"
      }
    },
    {
      "cell_type": "code",
      "source": [
        "# Ejercicio 15\n",
        "mass_dolls, mass_clowns = float(input(\"Cúantas muñecas se han vendido? \"))*75,float(input(\"Cúantos payasos se han vendido? \"))*112\n",
        "print(\"El peso total de los payasos ha entregar es de: \", mass_clowns, \"g\", \"El peso total de las muñecas ha entregar es de: \",mass_dolls, \"g\", \n",
        "\" siendo el total del peso del paquete: \", mass_clowns+mass_dolls, \"g\")  "
      ],
      "metadata": {
        "id": "pa-kn6xTVudQ",
        "colab": {
          "base_uri": "https://localhost:8080/"
        },
        "outputId": "dda58344-8195-4232-cfc6-af49f40b2d55"
      },
      "execution_count": 31,
      "outputs": [
        {
          "output_type": "stream",
          "name": "stdout",
          "text": [
            "Cúantas muñecas se han vendido? 2\n",
            "Cúantos payasos se han vendido? 2\n",
            "El peso total de los payasos ha entregar es de:  224.0 g El peso total de las muñecas ha entregar es de:  150.0 g  siendo el total del peso del paquete:  374.0 g\n"
          ]
        }
      ]
    },
    {
      "cell_type": "markdown",
      "source": [
        "### Ejercicio 16\n",
        "Una panadería vende barras de pan a 3.49€ cada una. El pan que no es el día tiene un descuento del 60%. Escribir un programa que comience leyendo el número de barras vendidas que no son del día. Después el programa debe mostrar el precio habitual de una barra de pan, el descuento que se le hace por no ser fresca y el coste final total."
      ],
      "metadata": {
        "id": "a7FWLMXuWP40"
      }
    },
    {
      "cell_type": "code",
      "source": [
        "# Ejercicio 16\n",
        "pan_cant, pan_nofresco = int(input(\"Cuántas barras de pan se han vendido: \")), int(input(\"Cuántas barras de pan vendidas no son 100% frescas: \"))\n",
        "total = round(((pan_cant - pan_nofresco)*3.49) + (pan_nofresco*3.49*(1-0.60)), 2)\n",
        "print(\"El precio habitual del pan es de: 3.49€, y el que no es 100% fresco tiene un 60% de descuento, \\n Los Euros de pan fresco vendido fueron de: \", round(((pan_cant - pan_nofresco)*3.49), 2),\" € \",\n",
        "\"\\n La cantidad de Euros de pan no 100% frescos vendidos fueron de: \", round((pan_nofresco*3.49*(1-0.60)), 2), \"\\n siendo el total: \",total, \"€\")"
      ],
      "metadata": {
        "id": "t82Ph4Y0ei9I",
        "colab": {
          "base_uri": "https://localhost:8080/"
        },
        "outputId": "494b13ff-ac80-4ace-f7cb-3be0c537546e"
      },
      "execution_count": 40,
      "outputs": [
        {
          "output_type": "stream",
          "name": "stdout",
          "text": [
            "Cuántas barras de pan se han vendido: 4\n",
            "Cuántas barras de pan vendidas no son 100% frescas: 2\n",
            "El precio habitual del pan es de: 3.49€, y el que no es 100% fresco tiene un 60% de descuento, \n",
            " Los Euros de pan fresco vendido fueron de:  6.98  €  \n",
            " La cantidad de Euros de pan no 100% frescos vendidos fueron de:  2.79 \n",
            " siendo el total:  9.77 €\n"
          ]
        }
      ]
    },
    {
      "cell_type": "markdown",
      "source": [
        "### Ejercicio 17\n",
        "Escribir un programa que le solicite al usuario ingresar una fecha formada por 8 números, donde los primeros cuatro representan el año, los siguientes dos el mes y los últimos dos el día (AAAAMMDD). Este dato debe guardarse en una variable con tipo int (número entero). Finalmente, mostrar al usuario la fecha con el formato \"DD / MM / AAAA\"."
      ],
      "metadata": {
        "id": "S2xUlEyIdAIp"
      }
    },
    {
      "cell_type": "code",
      "source": [
        "# Ejercicio 17\n",
        "fecha= int(input(\"ESCRIBA LA FECHA EN ESTE FORMATO año+mes+día, de forma númerica con un total de 8 digitos: \"))\n",
        "fecha= str(fecha)\n",
        "fecha_t = fecha[0:4] + \"/\"+ fecha[4:6] + \"/\" + fecha[7:9]\n",
        "print(fecha_t)"
      ],
      "metadata": {
        "id": "O4n3dK0rdDHj",
        "colab": {
          "base_uri": "https://localhost:8080/"
        },
        "outputId": "f6f47d1f-dc7a-478d-9864-a804eaac9f59"
      },
      "execution_count": 77,
      "outputs": [
        {
          "output_type": "stream",
          "name": "stdout",
          "text": [
            "ESCRIBA LA FECHA EN ESTE FORMATO año+mes+día, de forma númerica con un total de 8 digitos: 20221212\n",
            "2022/12/2\n"
          ]
        }
      ]
    },
    {
      "cell_type": "markdown",
      "source": [
        "### Ejercicio 18\n",
        "Escribir un programa que pregunte el nombre completo del usuario en la consola y después muestre por pantalla el nombre completo del usuario tres veces:\n",
        "1. Una con todas las letras minúsculas\n",
        "2. Otra con todas las letras mayúsculas\n",
        "3. Y otra solo con la primera letra del nombre y de los apellidos en mayúscula. \n",
        "\n",
        "El usuario puede introducir su nombre combinando mayúsculas y minúsculas como quiera.\n",
        "\n",
        "Pista: https://codeofgeeks.com/upper-lower-swapcase-title-capitalize-methods-in-python-strings/"
      ],
      "metadata": {
        "id": "bMIzZfKfekEj"
      }
    },
    {
      "cell_type": "code",
      "source": [
        "# Ejercicio 18\n",
        "lista1 = []\n",
        "nombre_1, nombre_2, apellido = str(input(\"Cuál es su primer nombre: \")), str(input(\"Cuál es su segundo nombre: \")), str(input(\"Cuál es su apellido: \"))\n",
        "print(nombre_1.lower(), \" \",nombre_2.lower(), \" \", apellido.lower() ) \n",
        "print(\"\\n\", nombre_1.upper(), \" \",nombre_2.upper(), \" \", apellido.upper() )\n",
        "nombre_1, nombre_2, apellido = nombre_1.lower(), nombre_2.lower(), apellido.lower()\n",
        "print(\"\\n\", nombre_1.capitalize(), nombre_2.capitalize(), apellido.capitalize())\n",
        "\n"
      ],
      "metadata": {
        "id": "YXsLnQYNelZU",
        "colab": {
          "base_uri": "https://localhost:8080/"
        },
        "outputId": "a8b31708-0e2e-4fdd-ad11-cb78c294a4ad"
      },
      "execution_count": 61,
      "outputs": [
        {
          "output_type": "stream",
          "name": "stdout",
          "text": [
            "Cuál es su primer nombre: gabriela\n",
            "Cuál es su segundo nombre: alejandra\n",
            "Cuál es su apellido: canales\n",
            "gabriela   alejandra   canales\n",
            "\n",
            " GABRIELA   ALEJANDRA   CANALES\n",
            "\n",
            " Gabriela Alejandra Canales\n"
          ]
        }
      ]
    },
    {
      "cell_type": "markdown",
      "source": [
        "### Ejercicio 19\n",
        "Escribir un programa que solicite al usuario el ingreso de una temperatura en escala Fahrenheit (debe permitir decimales) y le muestre el equivalente en grados Celsius redondeado a 2 decimales. \n",
        "\\begin{equation}\n",
        "C = \\frac{5}{{9}} \\left(F - 32 \\right)\n",
        "\\end{equation}\n",
        "\n",
        "Pista: la función `round(n, d)` en Python redondea el número n a un número de dígitos d."
      ],
      "metadata": {
        "id": "X1p-8jZfel2i"
      }
    },
    {
      "cell_type": "code",
      "source": [
        "# Ejercicio 19\n",
        "temp = float(input(\"ESCRIBA LA TEMPERATURA EN GRADOS Fahrenheit: \"))\n",
        "temp = round((temp-32)*(5/9), 2)\n",
        "print(\"La temperatura en grados celsius es: \", temp)"
      ],
      "metadata": {
        "id": "4iXY6vQAenYV",
        "colab": {
          "base_uri": "https://localhost:8080/"
        },
        "outputId": "53d852a7-914c-4e7c-e295-fa5717c85964"
      },
      "execution_count": 62,
      "outputs": [
        {
          "output_type": "stream",
          "name": "stdout",
          "text": [
            "ESCRIBA LA TEMPERATURA EN GRADOS Fahrenheit: 10\n",
            "La temperatura en grados celsius es:  -12.22\n"
          ]
        }
      ]
    },
    {
      "cell_type": "markdown",
      "source": [
        "### Ejercicio 20\n",
        "Escribir un programa que pida al usuario que introduzca una frase en la consola y una vocal en minúscula, y después muestre por pantalla la misma frase pero con la vocal introducida en mayúscula.\n",
        "```\n",
        "aprende a programar con Python → Aprende A progrAmAr con Python\n",
        "```\n",
        "Pista: utilizar la función `replace(a, b)` que modifica el valor a por el b sobre la cadena de texto, i.e. `\"patata\".replace(\"a\", \"o\")` resultaría en `\"pototo\"`"
      ],
      "metadata": {
        "id": "FN3Qw9xvoi_T"
      }
    },
    {
      "cell_type": "code",
      "source": [
        "# Ejercicio 20\n",
        "frase, vocal = str(input(\"Escriba una frase: \")), str(input(\"Escriba una vocal usada en la frase: \")).lower()\n",
        "frase = frase.replace(vocal, vocal.upper())\n",
        "print(frase)"
      ],
      "metadata": {
        "id": "dziOUFvsvD_H",
        "colab": {
          "base_uri": "https://localhost:8080/"
        },
        "outputId": "1038a5fa-f440-4c67-9e64-a772e719eb02"
      },
      "execution_count": 64,
      "outputs": [
        {
          "output_type": "stream",
          "name": "stdout",
          "text": [
            "Escriba una frase: hola a todos\n",
            "Escriba una vocal usada en la frase: o\n",
            "hOla a tOdOs\n"
          ]
        }
      ]
    },
    {
      "cell_type": "markdown",
      "source": [
        "### Ejercicio 20\n"
      ],
      "metadata": {
        "id": "wH5Y19izusJv"
      }
    }
  ]
}