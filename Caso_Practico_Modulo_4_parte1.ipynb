{
 "cells": [
  {
   "cell_type": "markdown",
   "id": "f348bdcb",
   "metadata": {
    "code_folding": []
   },
   "source": [
    "# Ejercicios parte 1\n",
    "\n"
   ]
  },
  {
   "cell_type": "markdown",
   "id": "d8f24feb",
   "metadata": {},
   "source": [
    "## Cuestión 1\n",
    "*Cuestión 1: Una empresa necesita bobinas de filamento de 1,75 mm para el departamento de \n",
    "impresión 3D. Necesitan medir qué tan cerca está realmente el diámetro del filamento de 1,75 mm. \n",
    "Utiliza una herramienta de calibre y toma muestras del diámetro cinco veces en el carrete: \n",
    "1,78, 1,75, 1,72, 1,74, 1,77. Calcule la media y la desviación estándar para este \n",
    "conjunto de valores.*\n"
   ]
  },
  {
   "cell_type": "code",
   "execution_count": 1,
   "id": "84fb12ce",
   "metadata": {},
   "outputs": [
    {
     "name": "stdout",
     "output_type": "stream",
     "text": [
      "La media es de: 1.752\n",
      "La desviación estándar es de: 0.024 \n"
     ]
    }
   ],
   "source": [
    "from numpy import std, mean\n",
    "from pandas import Series\n",
    "sample=Series([1.78, 1.75, 1.72, 1.74, 1.77])\n",
    "print(\"La media es de: %.3f\" %sample.mean())\n",
    "print(\"La desviación estándar es de: %.3f \" %sample.std())"
   ]
  },
  {
   "cell_type": "markdown",
   "id": "ea85a018",
   "metadata": {},
   "source": [
    "## Cuestión 2\n",
    "*Cuestión 2: Un fabricante de móviles dice que el smartphone Z-Phone tiene una vida media de consumo de 42 meses con una desviación estándar de 8 meses. Suponiendo una distribución normal, ¿cuál es la probabilidad de que un Z-Phone aleatorio dado dure entre 20 y 30 meses?*"
   ]
  },
  {
   "cell_type": "code",
   "execution_count": 2,
   "id": "d2c8e167",
   "metadata": {},
   "outputs": [
    {
     "name": "stdout",
     "output_type": "stream",
     "text": [
      "La probablidad es de: 6.383%\n"
     ]
    }
   ],
   "source": [
    "from scipy.stats import norm\n",
    "lower_limit=norm(loc=42, scale=8).cdf(20)# la probablidad de que sea <=20\n",
    "upper_limit=norm(loc=42, scale=8).cdf(30)# la probablidad de que sea <=30\n",
    "\"\"\"Se desea la probablidad dentro del rango de 20 y 30, por ende las restamos, para\n",
    "omitir la probablidad de que sea de < 20\"\"\"\n",
    "probability=(upper_limit-lower_limit)\n",
    "print(\"La probablidad es de: %0.3f\" %(probability*100)+\"%\")\n"
   ]
  },
  {
   "cell_type": "markdown",
   "id": "d005b76c",
   "metadata": {},
   "source": [
    "## Cuestión 3\n",
    "*El primer cliente no tiene la certeza de que el filamento para las impresoras 3D no tenga un diámetro promedio de 1,75 mm como se anuncia. Se midió 34 muestras con una herramienta de medición. La media muestral es 1,715588 y la desviación estándar muestral es 0,029252. ¿Cuál es el intervalo de confianza del 99 % para la media de toda la bobina de filamento?*"
   ]
  },
  {
   "cell_type": "code",
   "execution_count": 3,
   "id": "3f49225c",
   "metadata": {
    "code_folding": []
   },
   "outputs": [
    {
     "name": "stdout",
     "output_type": "stream",
     "text": [
      "El intervalo de confianza es de: [1.707359, 1.724573]\n"
     ]
    },
    {
     "data": {
      "text/plain": [
       "'nos indica que hay una probablidad del 99% de que la media poblacional esta en ese \\nintervalo de confianza, 1.75 no se encuentra en ese intervalo, el cliente tiene razón de dudar'"
      ]
     },
     "execution_count": 3,
     "metadata": {},
     "output_type": "execute_result"
    }
   ],
   "source": [
    "from math import sqrt\n",
    "mean=1.715588\n",
    "n=34\n",
    "std=0.029252\n",
    "\n",
    "def z_value(p,norm_dist):\n",
    " proporcion = (1-p)/2\n",
    " left_tail_value= norm_dist.ppf(proporcion) #un valor <= a este valor esta en la cola izquierda\n",
    " upper_area_value=norm_dist.ppf(1-proporcion) #un valor > a este valor esta en la areá superior\n",
    " return upper_area_value, left_tail_value\n",
    "\n",
    "def ic (n,mean,std):\n",
    " norm_dist = norm(loc=mean, scale=std)#distribución normal\n",
    " upper, lower = z_value(0.99,norm_dist)#intervalo de confianza del 99% y la distribución normal\n",
    " error=std/sqrt(n)\n",
    " return (-lower*error)+mean,(upper*error)+mean #intervalos con respecto a la media\n",
    "\n",
    "print(\"El intervalo de confianza es de: [%.6f, %.6f]\" %ic(n,mean,std))\n",
    "\n",
    "\"\"\"nos indica que hay una probablidad del 99% de que la media poblacional esta en ese \n",
    "intervalo de confianza, 1.75 no se encuentra en ese intervalo, el cliente tiene razón de dudar\"\"\""
   ]
  },
  {
   "cell_type": "markdown",
   "id": "8409ee0c",
   "metadata": {},
   "source": [
    "## Cuestión 4\n",
    "*El departamento de marketing de una compañía de telefonía ha iniciado una nueva campaña publicitaria y desea saber si afectó a las ventas, que en el pasado promediaron 10345 dolares por día con una desviación estándar de 552 dolares. La nueva campaña publicitaria duró 45 días y promedió 11,641 dolares en ventas. ¿La campaña afectó a las ventas? ¿Por qué o por qué no? (Utilice una prueba de dos colas para una significación más confiable).*"
   ]
  },
  {
   "cell_type": "code",
   "execution_count": 4,
   "id": "79fd7474",
   "metadata": {},
   "outputs": [
    {
     "name": "stdout",
     "output_type": "stream",
     "text": [
      "0.009441667982480695\n",
      "11426.90011946611 9263.09988053389\n",
      "0.05008488258851708\n"
     ]
    },
    {
     "data": {
      "text/plain": [
       "'11641>11426, por ende se encuentra en la cola superior, lo cual indica que la campaña \\npublicitaria tuvo un efecto en las ventas, y de forma positiva, aceptando la hipotésis \\nalternativa, ya que la cola superior representa solo un 2.5% de probabilidad de que el \\nvalor sea >= 11426, así que podemos decir que no es coincidencia de que halla ocurrido'"
      ]
     },
     "execution_count": 4,
     "metadata": {},
     "output_type": "execute_result"
    }
   ],
   "source": [
    "from scipy.stats import norm\n",
    "mean=10345\n",
    "std=552\n",
    "mean_sample=11641\n",
    "n_duration=45\n",
    "\n",
    "normal=norm(loc=mean,scale=std)\n",
    "print(1-normal.cdf(mean_after))# se observa una probabilidad baja de que sea > a este valor\n",
    "upper_x=normal.ppf(0.975) #indica que hay una probabilidad del 97.5% de un valor <= a este\n",
    "lower_x=normal.ppf(0.025) #indica que hay una probabilidad del 2.5% de un valor <= a este\n",
    "#hipotésis nula: La nueva campaña publicitaria no tuvo efecto en la ventas\n",
    "#hipotésis alternativa: La nueva campaña publicitaria si tuvo efecto en la ventas, ya sea de forma + o -\n",
    "print(upper_x,lower_x)\n",
    "#de lo anterior escogeremos los valores 9264 y 11427, ahora sacaremos las probabilidades con cdf\n",
    "p_lower=normal.cdf(9264) # probablidad de que sea <= a este valor\n",
    "p_upper=1-normal.cdf(11427)# propabilidad de que sea > a este valor\n",
    "p_area_tails=p_lower+p_upper\n",
    "print(p_area_tails)#es igual al umbral de 0.05\n",
    "\"\"\"El umbral para fallar la hipotésis nula es de p<=5%, y efectivamente el resultado fue de 5%\n",
    "eso quiere decir que la probabilidad de que salga un valor menor al lower_x incluyendo mayor que\n",
    "el upper_x (observese que el valor de la media muestral esta dentro de estas colas) al AZAR es \n",
    "del 5%, puesto quiere decir que no es muy probable que un valor (como 11641) se genere debido al \n",
    "AZAR, significa que hubo un suceso que intervino para que se generará ese resultado, y en este Caso\n",
    "fue la nueva campaña publicitaria, la cual SI tuvo un efecto en las ventas, rechazando la hipotésis\n",
    "nula\"\"\"\n",
    "\n"
   ]
  },
  {
   "cell_type": "code",
   "execution_count": null,
   "id": "c8ea1518",
   "metadata": {},
   "outputs": [],
   "source": []
  }
 ],
 "metadata": {
  "hide_input": false,
  "kernelspec": {
   "display_name": "Python 3 (ipykernel)",
   "language": "python",
   "name": "python3"
  },
  "language_info": {
   "codemirror_mode": {
    "name": "ipython",
    "version": 3
   },
   "file_extension": ".py",
   "mimetype": "text/x-python",
   "name": "python",
   "nbconvert_exporter": "python",
   "pygments_lexer": "ipython3",
   "version": "3.9.13"
  },
  "nbTranslate": {
   "displayLangs": [
    "*"
   ],
   "hotkey": "alt-t",
   "langInMainMenu": true,
   "sourceLang": "en",
   "targetLang": "fr",
   "useGoogleTranslate": true
  },
  "toc": {
   "base_numbering": 1,
   "nav_menu": {},
   "number_sections": true,
   "sideBar": true,
   "skip_h1_title": false,
   "title_cell": "Table of Contents",
   "title_sidebar": "Contents",
   "toc_cell": false,
   "toc_position": {},
   "toc_section_display": true,
   "toc_window_display": false
  },
  "varInspector": {
   "cols": {
    "lenName": 16,
    "lenType": 16,
    "lenVar": 40
   },
   "kernels_config": {
    "python": {
     "delete_cmd_postfix": "",
     "delete_cmd_prefix": "del ",
     "library": "var_list.py",
     "varRefreshCmd": "print(var_dic_list())"
    },
    "r": {
     "delete_cmd_postfix": ") ",
     "delete_cmd_prefix": "rm(",
     "library": "var_list.r",
     "varRefreshCmd": "cat(var_dic_list()) "
    }
   },
   "types_to_exclude": [
    "module",
    "function",
    "builtin_function_or_method",
    "instance",
    "_Feature"
   ],
   "window_display": false
  }
 },
 "nbformat": 4,
 "nbformat_minor": 5
}
